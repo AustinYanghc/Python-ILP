{
 "cells": [
  {
   "cell_type": "code",
   "execution_count": 29,
   "metadata": {},
   "outputs": [
    {
     "data": {
      "text/plain": [
       "'\\n线性分类器\\n最基本和常用的机器学习模型\\n受限于数据特征与分类目标的线性假设\\n逻辑斯蒂回归 计算时间长，模型性能略高\\n随机参数估计 计算时间短，模型性能略低\\n'"
      ]
     },
     "execution_count": 29,
     "metadata": {},
     "output_type": "execute_result"
    }
   ],
   "source": [
    "import numpy as np\n",
    "import pandas as pd\n",
    "from sklearn.model_selection import train_test_split\n",
    "from sklearn.preprocessing import StandardScaler\n",
    "from sklearn.linear_model import LogisticRegression, SGDClassifier\n",
    "from sklearn.metrics import classification_report\n",
    "\n",
    "\"\"\"\n",
    "线性分类器\n",
    "最基本和常用的机器学习模型\n",
    "受限于数据特征与分类目标的线性假设\n",
    "逻辑斯蒂回归 计算时间长，模型性能略高\n",
    "随机参数估计 计算时间短，模型性能略低\n",
    "\"\"\""
   ]
  },
  {
   "cell_type": "code",
   "execution_count": 11,
   "metadata": {},
   "outputs": [],
   "source": [
    "# 创建特征列表\n",
    "column_names = ['Sample code number', 'Clump Thickness', 'Uniformity of Cell Size',\n",
    "                'Uniformity of Cell Shape', 'Marginal Adhesion', 'Single Epithelial Cell size',\n",
    "                'Bare Nuclei', 'Bland Chromatin', 'Normal Nucleoli', 'Mitoses', 'Class']"
   ]
  },
  {
   "cell_type": "code",
   "execution_count": 14,
   "metadata": {},
   "outputs": [],
   "source": [
    "data = pd.read_csv('breast/breast-cancer-wisconsin.data', names=column_names)"
   ]
  },
  {
   "cell_type": "code",
   "execution_count": 17,
   "metadata": {},
   "outputs": [
    {
     "name": "stdout",
     "output_type": "stream",
     "text": [
      "(683, 11)\n"
     ]
    }
   ],
   "source": [
    "# 将?替换为标准缺失值表示\n",
    "data = data.replace(to_replace='?', value=np.nan)\n",
    "# 丢失带有缺失值的数据 只要有一个维度有缺失就丢弃\n",
    "data = data.dropna(how='any')\n",
    "# 输出data数据的数量和维度\n",
    "print(data.shape)"
   ]
  },
  {
   "cell_type": "code",
   "execution_count": 18,
   "metadata": {},
   "outputs": [],
   "source": [
    "# 随机采样25%数据用于测试 75%数据用于训练\n",
    "x_train, x_test, y_train, y_test = train_test_split(data[column_names[1:10]],\n",
    "                                                    data[column_names[10]],\n",
    "                                                    test_size=0.25,\n",
    "                                                    random_state=33)"
   ]
  },
  {
   "cell_type": "code",
   "execution_count": 19,
   "metadata": {},
   "outputs": [
    {
     "name": "stdout",
     "output_type": "stream",
     "text": [
      "2    344\n",
      "4    168\n",
      "Name: Class, dtype: int64\n",
      "2    100\n",
      "4     71\n",
      "Name: Class, dtype: int64\n"
     ]
    }
   ],
   "source": [
    "# 查验训练样本和测试样本的数量和类别分布\n",
    "print(y_train.value_counts())\n",
    "print(y_test.value_counts())"
   ]
  },
  {
   "cell_type": "code",
   "execution_count": 20,
   "metadata": {},
   "outputs": [],
   "source": [
    "# 数据标准化，保证每个维度特征的方差为1 均值为0 预测结果不会被某些维度过大的特征值主导\n",
    "ss = StandardScaler()\n",
    "x_train = ss.fit_transform(x_train)     # 对x_train进行标准化\n",
    "x_test = ss.transform(x_test)       # 用与x_train相同的规则对x_test进行标准化，不重新建立规则"
   ]
  },
  {
   "cell_type": "code",
   "execution_count": 21,
   "metadata": {},
   "outputs": [],
   "source": [
    "lr = LogisticRegression()   # 初始化逻辑斯蒂回归模型\n",
    "sgdc = SGDClassifier()  # 初始化随机参数估计模型"
   ]
  },
  {
   "cell_type": "code",
   "execution_count": 24,
   "metadata": {},
   "outputs": [
    {
     "name": "stdout",
     "output_type": "stream",
     "text": [
      "逻辑斯蒂回归准确率： 0.9883040935672515\n",
      "逻辑斯蒂回归的其他指标：\n",
      "               precision    recall  f1-score   support\n",
      "\n",
      "      Benign       0.99      0.99      0.99       100\n",
      "   Malignant       0.99      0.99      0.99        71\n",
      "\n",
      "    accuracy                           0.99       171\n",
      "   macro avg       0.99      0.99      0.99       171\n",
      "weighted avg       0.99      0.99      0.99       171\n",
      "\n",
      "随机参数估计准确率： 0.9883040935672515\n",
      "随机参数估计的其他指标:\n",
      "               precision    recall  f1-score   support\n",
      "\n",
      "      Benign       0.99      0.99      0.99       100\n",
      "   Malignant       0.99      0.99      0.99        71\n",
      "\n",
      "    accuracy                           0.99       171\n",
      "   macro avg       0.99      0.99      0.99       171\n",
      "weighted avg       0.99      0.99      0.99       171\n",
      "\n"
     ]
    }
   ],
   "source": [
    "# 逻辑斯蒂回归模型自带评分函数score获得模型在测试集合上的准确率\n",
    "print(\"逻辑斯蒂回归准确率：\", lr.score(x_test, y_test))\n",
    "# 逻辑斯蒂回归的其他指标\n",
    "print(\"逻辑斯蒂回归的其他指标：\\n\", classification_report(y_test, lr_y_predict, target_names=[\"Benign\", \"Malignant\"]))\n",
    "\n",
    "# 随机参数估计的性能分析\n",
    "print(\"随机参数估计准确率：\", sgdc.score(x_test, y_test))\n",
    "# 随机参数估计的其他指标\n",
    "print(\"随机参数估计的其他指标:\\n\", classification_report(y_test, sgdc_y_predict, target_names=[\"Benign\", \"Malignant\"]))"
   ]
  },
  {
   "cell_type": "code",
   "execution_count": 23,
   "metadata": {},
   "outputs": [
    {
     "name": "stderr",
     "output_type": "stream",
     "text": [
      "//anaconda3/lib/python3.7/site-packages/sklearn/linear_model/logistic.py:432: FutureWarning: Default solver will be changed to 'lbfgs' in 0.22. Specify a solver to silence this warning.\n",
      "  FutureWarning)\n"
     ]
    }
   ],
   "source": [
    "# 使用 逻辑斯蒂回归 在训练集合上训练\n",
    "lr.fit(x_train, y_train)\n",
    "# 训练好后 对测试集合进行预测 预测结果保存在 lr_y_predict中\n",
    "lr_y_predict = lr.predict(x_test)\n",
    "\n",
    "# 使用 随机参数估计 在训练集合上训练\n",
    "sgdc.fit(x_train, y_train)\n",
    "# 训练好后 对测试集合进行预测 结果保存在 sgdc_y_predict中\n",
    "sgdc_y_predict = sgdc.predict(x_test)"
   ]
  },
  {
   "cell_type": "code",
   "execution_count": null,
   "metadata": {},
   "outputs": [],
   "source": []
  }
 ],
 "metadata": {
  "kernelspec": {
   "display_name": "Python 3",
   "language": "python",
   "name": "python3"
  },
  "language_info": {
   "codemirror_mode": {
    "name": "ipython",
    "version": 3
   },
   "file_extension": ".py",
   "mimetype": "text/x-python",
   "name": "python",
   "nbconvert_exporter": "python",
   "pygments_lexer": "ipython3",
   "version": "3.7.3"
  }
 },
 "nbformat": 4,
 "nbformat_minor": 2
}
