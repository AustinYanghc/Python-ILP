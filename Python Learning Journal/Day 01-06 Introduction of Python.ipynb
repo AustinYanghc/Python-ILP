{
 "cells": [
  {
   "cell_type": "code",
   "execution_count": 1,
   "metadata": {},
   "outputs": [
    {
     "name": "stdout",
     "output_type": "stream",
     "text": [
      "The Zen of Python, by Tim Peters\n",
      "\n",
      "Beautiful is better than ugly.\n",
      "Explicit is better than implicit.\n",
      "Simple is better than complex.\n",
      "Complex is better than complicated.\n",
      "Flat is better than nested.\n",
      "Sparse is better than dense.\n",
      "Readability counts.\n",
      "Special cases aren't special enough to break the rules.\n",
      "Although practicality beats purity.\n",
      "Errors should never pass silently.\n",
      "Unless explicitly silenced.\n",
      "In the face of ambiguity, refuse the temptation to guess.\n",
      "There should be one-- and preferably only one --obvious way to do it.\n",
      "Although that way may not be obvious at first unless you're Dutch.\n",
      "Now is better than never.\n",
      "Although never is often better than *right* now.\n",
      "If the implementation is hard to explain, it's a bad idea.\n",
      "If the implementation is easy to explain, it may be a good idea.\n",
      "Namespaces are one honking great idea -- let's do more of those!\n"
     ]
    }
   ],
   "source": [
    "import this"
   ]
  },
  {
   "cell_type": "code",
   "execution_count": 2,
   "metadata": {},
   "outputs": [],
   "source": [
    "import turtle\n",
    "\n",
    "turtle.pensize(4)\n",
    "turtle.pencolor('blue')\n",
    "turtle.forward(100)\n",
    "turtle.right(90)\n",
    "turtle.forward(100)\n",
    "turtle.right(90)\n",
    "turtle.forward(100)\n",
    "turtle.right(90)\n",
    "turtle.forward(100)\n",
    "turtle.mainloop()"
   ]
  },
  {
   "cell_type": "markdown",
   "metadata": {},
   "source": [
    "# Variables and types"
   ]
  },
  {
   "cell_type": "code",
   "execution_count": 3,
   "metadata": {},
   "outputs": [
    {
     "name": "stdout",
     "output_type": "stream",
     "text": [
      "a = 10\n",
      "b = 23\n",
      "10 + 23 = 33\n",
      "10 - 23 = -13\n",
      "10 * 23 = 230\n",
      "10 / 23 = 0.434783\n",
      "10 // 23 = 0\n",
      "10 % 23 = 10\n",
      "10 ** 23 = 100000000000000000000000\n"
     ]
    }
   ],
   "source": [
    "a = int(input('a = '))\n",
    "b = int(input('b = '))\n",
    "print('%d + %d = %d' % (a, b, a + b))\n",
    "print('%d - %d = %d' % (a, b, a - b))\n",
    "print('%d * %d = %d' % (a, b, a * b))\n",
    "print('%d / %d = %f' % (a, b, a / b))\n",
    "print('%d // %d = %d' % (a, b, a // b))\n",
    "print('%d %% %d = %d' % (a, b, a % b))\n",
    "print('%d ** %d = %d' % (a, b, a ** b))"
   ]
  },
  {
   "cell_type": "code",
   "execution_count": 4,
   "metadata": {},
   "outputs": [
    {
     "name": "stdout",
     "output_type": "stream",
     "text": [
      "<class 'int'>\n",
      "<class 'float'>\n",
      "<class 'complex'>\n",
      "<class 'str'>\n",
      "<class 'bool'>\n"
     ]
    }
   ],
   "source": [
    "a = 100\n",
    "b = 12.345\n",
    "c = 1 + 5j\n",
    "d = 'hello, world'\n",
    "e = True\n",
    "print(type(a))\n",
    "print(type(b))\n",
    "print(type(c))\n",
    "print(type(d))\n",
    "print(type(e))"
   ]
  },
  {
   "cell_type": "code",
   "execution_count": 5,
   "metadata": {},
   "outputs": [
    {
     "name": "stdout",
     "output_type": "stream",
     "text": [
      "a += b = 15\n",
      "b -= c = 7\n",
      "c *= d = 12\n",
      "d /= e = 0.8\n",
      "flag1 =  True\n",
      "flag2 =  False\n",
      "flag3 =  False\n",
      "flag4 =  True\n",
      "flag5 =  False\n",
      "True\n",
      "False\n"
     ]
    }
   ],
   "source": [
    "a = 5\n",
    "b = 10\n",
    "c = 3\n",
    "d = 4\n",
    "e = 5\n",
    "a += b\n",
    "print(\"a += b =\", a)\n",
    "b -= c\n",
    "print(\"b -= c =\", b)\n",
    "c *= d\n",
    "print(\"c *= d =\", c)\n",
    "d /= e\n",
    "print(\"d /= e =\", d)\n",
    "\n",
    "flag1 = 3 > 2\n",
    "flag2 = 2 < 1\n",
    "flag3 = flag1 and flag2\n",
    "flag4 = flag1 or flag2\n",
    "flag5 = not flag1\n",
    "print(\"flag1 = \", flag1)\n",
    "print(\"flag2 = \", flag2)\n",
    "print(\"flag3 = \", flag3)\n",
    "print(\"flag4 = \", flag4)\n",
    "print(\"flag5 = \", flag5)\n",
    "print(flag1 is True)\n",
    "print(flag2 is not False)"
   ]
  },
  {
   "cell_type": "code",
   "execution_count": 6,
   "metadata": {},
   "outputs": [
    {
     "name": "stdout",
     "output_type": "stream",
     "text": [
      "Please enter Fahrenheit temperature: 100\n",
      "100.0 Fahrenheit = 37.8 Celsius\n"
     ]
    }
   ],
   "source": [
    "f = float(input('Please enter Fahrenheit temperature: '))\n",
    "c = (f - 32) / 1.8\n",
    "print('%.1f Fahrenheit = %.1f Celsius' % (f, c))"
   ]
  },
  {
   "cell_type": "code",
   "execution_count": 7,
   "metadata": {},
   "outputs": [
    {
     "name": "stdout",
     "output_type": "stream",
     "text": [
      "Please enter the radius of the circle: 2\n",
      "perimeter: 12.57\n",
      "area: 12.57\n"
     ]
    }
   ],
   "source": [
    "import math\n",
    "\n",
    "radius = float(input('Please enter the radius of the circle: '))\n",
    "perimeter = 2 * math.pi * radius\n",
    "area = math.pi * radius * radius\n",
    "print('perimeter: %.2f' % perimeter)\n",
    "print('area: %.2f' % area)"
   ]
  },
  {
   "cell_type": "code",
   "execution_count": 8,
   "metadata": {},
   "outputs": [
    {
     "name": "stdout",
     "output_type": "stream",
     "text": [
      "Please enter the year: 2038\n",
      "False\n"
     ]
    }
   ],
   "source": [
    "year = int(input('Please enter the year: '))\n",
    "# If the code is too long to write in a line, it is not easy to read. We can use \\ or () to break the line.\n",
    "is_leap = (year % 4 == 0 and year % 100 != 0 or\n",
    "           year % 400 == 0)\n",
    "print(is_leap)"
   ]
  },
  {
   "cell_type": "markdown",
   "metadata": {},
   "source": [
    "# if...else"
   ]
  },
  {
   "cell_type": "code",
   "execution_count": 9,
   "metadata": {},
   "outputs": [
    {
     "name": "stdout",
     "output_type": "stream",
     "text": [
      "please enter user name: austin\n",
      "please enter password: 123\n",
      "Authentication failed!\n"
     ]
    }
   ],
   "source": [
    "username = input('please enter user name: ')\n",
    "password = input('please enter password: ')\n",
    "# 如果希望输入口令时 终端中没有回显 可以使用getpass模块的getpass函数\n",
    "#import getpass\n",
    "#password = getpass.getpass('请输入口令: ')\n",
    "if username == 'admin' and password == '123456':\n",
    "    print('Authentication successful!')\n",
    "else:\n",
    "    print('Authentication failed!')"
   ]
  },
  {
   "cell_type": "code",
   "execution_count": 32,
   "metadata": {},
   "outputs": [
    {
     "name": "stdout",
     "output_type": "stream",
     "text": [
      "x = 3\n",
      "f(3.00) = 4.00\n"
     ]
    }
   ],
   "source": [
    "x = float(input('x = '))\n",
    "if x > 1:\n",
    "    y = 3 * x - 5\n",
    "elif x >= -1:\n",
    "    y = x + 2\n",
    "else:\n",
    "    y = 5 * x + 3\n",
    "print('f(%.2f) = %.2f' % (x, y))"
   ]
  },
  {
   "cell_type": "code",
   "execution_count": 33,
   "metadata": {},
   "outputs": [
    {
     "name": "stdout",
     "output_type": "stream",
     "text": [
      "x = 4\n",
      "f(4.00) = 7.00\n"
     ]
    }
   ],
   "source": [
    "x = float(input('x = '))\n",
    "if x > 1:\n",
    "    y = 3 * x - 5\n",
    "else:\n",
    "    if x >= -1:\n",
    "        y = x + 2\n",
    "    else:\n",
    "        y = 5 * x + 3\n",
    "print('f(%.2f) = %.2f' % (x, y))"
   ]
  },
  {
   "cell_type": "code",
   "execution_count": 10,
   "metadata": {},
   "outputs": [
    {
     "name": "stdout",
     "output_type": "stream",
     "text": [
      "Please enter the length: 23\n",
      "Please enter the unit: cm\n",
      "23.000 centimeter = 9.055 inch\n"
     ]
    }
   ],
   "source": [
    "value = float(input('Please enter the length: '))\n",
    "unit = input('Please enter the unit: ')\n",
    "if unit == 'in' or unit == 'inch':\n",
    "    print('%.3f inch = %.3f cm' % (value, value * 2.54))\n",
    "elif unit == 'cm' or unit == 'centimeter':\n",
    "    print('%.3f centimeter = %.3f inch' % (value, value / 2.54))\n",
    "else:\n",
    "    print('Please enter a valid unit')"
   ]
  },
  {
   "cell_type": "code",
   "execution_count": 37,
   "metadata": {},
   "outputs": [
    {
     "name": "stdout",
     "output_type": "stream",
     "text": [
      "push up\n"
     ]
    }
   ],
   "source": [
    "from random import randint\n",
    "\n",
    "face = randint(1, 6)\n",
    "if face == 1:\n",
    "    result = 'singing'\n",
    "elif face == 2:\n",
    "    result = 'dancing'\n",
    "elif face == 3:\n",
    "    result = 'pet cat'\n",
    "elif face == 4:\n",
    "    result = 'push up'\n",
    "elif face == 5:\n",
    "    result = 'watch TV'\n",
    "else:\n",
    "    result = 'reading'\n",
    "print(result)"
   ]
  },
  {
   "cell_type": "code",
   "execution_count": 38,
   "metadata": {},
   "outputs": [
    {
     "name": "stdout",
     "output_type": "stream",
     "text": [
      "input score plz: 90\n",
      "Your level is: A\n"
     ]
    }
   ],
   "source": [
    "score = float(input('input score plz: '))\n",
    "if score >= 90:\n",
    "    grade = 'A'\n",
    "elif score >= 80:\n",
    "    grade = 'B'\n",
    "elif score >= 70:\n",
    "    grade = 'C'\n",
    "elif score >= 60:\n",
    "    grade = 'D'\n",
    "else:\n",
    "    grade = 'E'\n",
    "print('Your level is:', grade)"
   ]
  },
  {
   "cell_type": "code",
   "execution_count": 11,
   "metadata": {},
   "outputs": [
    {
     "name": "stdout",
     "output_type": "stream",
     "text": [
      "a = 3\n",
      "b = 4\n",
      "c = 5\n",
      "perimeter: 12.000000\n",
      "area: 6.000000\n"
     ]
    }
   ],
   "source": [
    "import math\n",
    "\n",
    "a = float(input('a = '))\n",
    "b = float(input('b = '))\n",
    "c = float(input('c = '))\n",
    "if a + b > c and a + c > b and b + c > a:\n",
    "    print('perimeter: %f' % (a + b + c))\n",
    "    p = (a + b + c) / 2\n",
    "    area = math.sqrt(p * (p - a) * (p - b) * (p - c))\n",
    "    print('area: %f' % (area))\n",
    "else:\n",
    "    print('Cannot form a triangle')"
   ]
  },
  {
   "cell_type": "code",
   "execution_count": 12,
   "metadata": {},
   "outputs": [
    {
     "name": "stdout",
     "output_type": "stream",
     "text": [
      "Income per month: 20000\n",
      "Super: 3000\n",
      "Tax: $2370.00\n",
      "Actual income: $14630.00\n"
     ]
    }
   ],
   "source": [
    "salary = float(input('Income per month: '))\n",
    "insurance = float(input('Super: '))\n",
    "diff = salary - insurance - 3500\n",
    "if diff <= 0:\n",
    "    rate = 0\n",
    "    deduction = 0\n",
    "elif diff < 1500:\n",
    "    rate = 0.03\n",
    "    deduction = 0\n",
    "elif diff < 4500:\n",
    "    rate = 0.1\n",
    "    deduction = 105\n",
    "elif diff < 9000:\n",
    "    rate = 0.2\n",
    "    deduction = 555\n",
    "elif diff < 35000:\n",
    "    rate = 0.25\n",
    "    deduction = 1005\n",
    "elif diff < 55000:\n",
    "    rate = 0.3\n",
    "    deduction = 2755\n",
    "elif diff < 80000:\n",
    "    rate = 0.35\n",
    "    deduction = 5505\n",
    "else:\n",
    "    rate = 0.45\n",
    "    deduction = 13505\n",
    "tax = abs(diff * rate - deduction)\n",
    "print('Tax: $%.2f' % tax)\n",
    "print('Actual income: $%.2f' % (diff + 3500 - tax))"
   ]
  },
  {
   "cell_type": "markdown",
   "metadata": {},
   "source": [
    "# Loop"
   ]
  },
  {
   "cell_type": "code",
   "execution_count": 42,
   "metadata": {},
   "outputs": [
    {
     "name": "stdout",
     "output_type": "stream",
     "text": [
      "4950\n"
     ]
    }
   ],
   "source": [
    "sum = 0\n",
    "for x in range(100):\n",
    "    sum += x\n",
    "print(sum)"
   ]
  },
  {
   "cell_type": "code",
   "execution_count": 52,
   "metadata": {},
   "outputs": [
    {
     "name": "stdout",
     "output_type": "stream",
     "text": [
      "2500\n"
     ]
    }
   ],
   "source": [
    "sum = 0\n",
    "for x in range(1, 101, 2):\n",
    "    sum += x\n",
    "print(sum)"
   ]
  },
  {
   "cell_type": "code",
   "execution_count": 45,
   "metadata": {},
   "outputs": [
    {
     "name": "stdout",
     "output_type": "stream",
     "text": [
      "2500\n"
     ]
    }
   ],
   "source": [
    "sum = 0\n",
    "for x in range(1, 101):\n",
    "    if x % 2 == 1:\n",
    "        sum += x\n",
    "print(sum)"
   ]
  },
  {
   "cell_type": "code",
   "execution_count": 13,
   "metadata": {},
   "outputs": [
    {
     "name": "stdout",
     "output_type": "stream",
     "text": [
      "pls enter: 23\n",
      "bigger\n",
      "pls enter: 50\n",
      "bigger\n",
      "pls enter: 70\n",
      "bigger\n",
      "pls enter: 90\n",
      "smaller\n",
      "pls enter: 80\n",
      "smaller\n",
      "pls enter: 76\n",
      "bigger\n",
      "pls enter: 77\n",
      "bigger\n",
      "pls enter: 78\n",
      "bigger\n",
      "pls enter: 79\n",
      "Congratulations, you got it!\n",
      "You guessed 9 times in total\n",
      "Your IQ balance is obviously insufficient\n"
     ]
    }
   ],
   "source": [
    "import random\n",
    "\n",
    "answer = random.randint(1, 100)\n",
    "counter = 0\n",
    "while True:\n",
    "    counter += 1\n",
    "    number = int(input('pls enter: '))\n",
    "    if number < answer:\n",
    "        print('bigger')\n",
    "    elif number > answer:\n",
    "        print('smaller')\n",
    "    else:\n",
    "        print('Congratulations, you got it!')\n",
    "        break\n",
    "print('You guessed %d times in total' % counter)\n",
    "if counter > 7:\n",
    "    print('Your IQ balance is obviously insufficient')"
   ]
  },
  {
   "cell_type": "code",
   "execution_count": 105,
   "metadata": {},
   "outputs": [
    {
     "name": "stdout",
     "output_type": "stream",
     "text": [
      "1*1=1\t\n",
      "2*1=2\t2*2=4\t\n",
      "3*1=3\t3*2=6\t3*3=9\t\n",
      "4*1=4\t4*2=8\t4*3=12\t4*4=16\t\n",
      "5*1=5\t5*2=10\t5*3=15\t5*4=20\t5*5=25\t\n",
      "6*1=6\t6*2=12\t6*3=18\t6*4=24\t6*5=30\t6*6=36\t\n",
      "7*1=7\t7*2=14\t7*3=21\t7*4=28\t7*5=35\t7*6=42\t7*7=49\t\n",
      "8*1=8\t8*2=16\t8*3=24\t8*4=32\t8*5=40\t8*6=48\t8*7=56\t8*8=64\t\n",
      "9*1=9\t9*2=18\t9*3=27\t9*4=36\t9*5=45\t9*6=54\t9*7=63\t9*8=72\t9*9=81\t\n"
     ]
    }
   ],
   "source": [
    "for i in range(1, 10):\n",
    "    for j in range(1, i + 1):\n",
    "        print('%d*%d=%d' % (i, j, i * j), end='\\t')\n",
    "    print()"
   ]
  },
  {
   "cell_type": "code",
   "execution_count": 14,
   "metadata": {},
   "outputs": [
    {
     "name": "stdout",
     "output_type": "stream",
     "text": [
      "Please enter a positive integer: 23\n",
      "23 is prime\n"
     ]
    }
   ],
   "source": [
    "from math import sqrt\n",
    "\n",
    "num = int(input('Please enter a positive integer: '))\n",
    "end = int(sqrt(num))\n",
    "is_prime = True\n",
    "for x in range(2, end + 1):\n",
    "    if num % x == 0:\n",
    "        is_prime = False\n",
    "        break\n",
    "if is_prime and num != 1:\n",
    "    print('%d is prime' % num)\n",
    "else:\n",
    "    print('%d is not prime' % num)"
   ]
  },
  {
   "cell_type": "code",
   "execution_count": 60,
   "metadata": {},
   "outputs": [
    {
     "name": "stdout",
     "output_type": "stream",
     "text": [
      "x = 13\n",
      "y = 23\n",
      "13和23的最大公约数是1\n",
      "13和23的最小公倍数是299\n"
     ]
    }
   ],
   "source": [
    "x = int(input('x = '))\n",
    "y = int(input('y = '))\n",
    "if x > y:\n",
    "    x, y = y, x\n",
    "for factor in range(x, 0, -1):\n",
    "    if x % factor == 0 and y % factor == 0:\n",
    "        print('%d和%d的最大公约数是%d' % (x, y, factor))\n",
    "        print('%d和%d的最小公倍数是%d' % (x, y, x * y // factor))\n",
    "        break"
   ]
  },
  {
   "cell_type": "code",
   "execution_count": 61,
   "metadata": {},
   "outputs": [
    {
     "name": "stdout",
     "output_type": "stream",
     "text": [
      "请输入行数: 3\n",
      "*\n",
      "**\n",
      "***\n",
      "  *\n",
      " **\n",
      "***\n",
      "  *\n",
      " ***\n",
      "*****\n"
     ]
    }
   ],
   "source": [
    "row = int(input('请输入行数: '))\n",
    "for i in range(row):\n",
    "    for _ in range(i + 1):\n",
    "        print('*', end='')\n",
    "    print()\n",
    "\n",
    "\n",
    "for i in range(row):\n",
    "    for j in range(row):\n",
    "        if j < row - i - 1:\n",
    "            print(' ', end='')\n",
    "        else:\n",
    "            print('*', end='')\n",
    "    print()\n",
    "\n",
    "for i in range(row):\n",
    "    for _ in range(row - i - 1):\n",
    "        print(' ', end='')\n",
    "    for _ in range(2 * i + 1):\n",
    "        print('*', end='')\n",
    "    print()"
   ]
  },
  {
   "cell_type": "code",
   "execution_count": 112,
   "metadata": {},
   "outputs": [
    {
     "name": "stdout",
     "output_type": "stream",
     "text": [
      "请输入个位数：3\n",
      "请输入十位数：5\n",
      "请输入百位数：1\n",
      "153是水仙花数\n"
     ]
    }
   ],
   "source": [
    "\"\"\"\n",
    "find Narcissistic number\n",
    "\n",
    "Version: 0.1\n",
    "Author: Austin\n",
    "\"\"\"\n",
    "\n",
    "x = int(input('请输入个位数：'))\n",
    "y = int(input('请输入十位数：'))\n",
    "z = int(input('请输入百位数：'))\n",
    "num = int(z * 100 + y * 10 + x)\n",
    "\n",
    "if x ** 3 + y ** 3 + z ** 3 == num:\n",
    "    print('%d是水仙花数' % num)\n",
    "else: \n",
    "    print('%d不是水仙花数' % num)"
   ]
  },
  {
   "cell_type": "code",
   "execution_count": 88,
   "metadata": {},
   "outputs": [
    {
     "name": "stdout",
     "output_type": "stream",
     "text": [
      "plz input an Integer：496\n",
      "496 is a perfect number\n"
     ]
    }
   ],
   "source": [
    "\"\"\"\n",
    "find perfect number\n",
    "\n",
    "Version: 0.1\n",
    "Author: Austin\n",
    "\"\"\"\n",
    "\n",
    "x = int(input('plz input an Integer：'))\n",
    "y = 0\n",
    "\n",
    "for factor in range(x, 0, -1):\n",
    "    if x % factor == 0 and x != factor:\n",
    "        y += factor\n",
    "if y == x:\n",
    "    print ('%d is a perfect number' % x)\n",
    "else:\n",
    "    print ('%d is not a perfect number' % x)"
   ]
  },
  {
   "cell_type": "code",
   "execution_count": 95,
   "metadata": {},
   "outputs": [
    {
     "name": "stdout",
     "output_type": "stream",
     "text": [
      "公鸡0只，母鸡25只，雏鸡75只\n",
      "公鸡4只，母鸡18只，雏鸡78只\n",
      "公鸡8只，母鸡11只，雏鸡81只\n",
      "公鸡12只，母鸡4只，雏鸡84只\n"
     ]
    }
   ],
   "source": [
    "for num_cock in range(0,100):\n",
    "    for num_hen in range(0,100):\n",
    "        if 14*num_cock + 8*num_hen -200 == 0 and 100-num_hen-num_cock >= 0:\n",
    "            print('公鸡%d只，母鸡%d只，雏鸡%d只' % (num_cock,num_hen,(100-num_cock-num_hen)))"
   ]
  },
  {
   "cell_type": "code",
   "execution_count": 180,
   "metadata": {},
   "outputs": [
    {
     "name": "stdout",
     "output_type": "stream",
     "text": [
      "3 "
     ]
    }
   ],
   "source": [
    "for i in range(1,100):\n",
    "    if i == (i - 1) + (i - 2):\n",
    "        print(i, end = ' ')"
   ]
  },
  {
   "cell_type": "code",
   "execution_count": 140,
   "metadata": {},
   "outputs": [],
   "source": [
    "def fib(n):\n",
    "        a, b = 1, 1\n",
    "        while a < n:\n",
    "            print(a, end=' ')\n",
    "            a, b = b, a+b"
   ]
  },
  {
   "cell_type": "code",
   "execution_count": 141,
   "metadata": {},
   "outputs": [
    {
     "name": "stdout",
     "output_type": "stream",
     "text": [
      "1 1 2 3 5 8 13 21 34 55 89 144 233 377 610 987 "
     ]
    }
   ],
   "source": [
    "fib(1000)"
   ]
  },
  {
   "cell_type": "code",
   "execution_count": 162,
   "metadata": {},
   "outputs": [
    {
     "name": "stdout",
     "output_type": "stream",
     "text": [
      "Your total fund is: 1000\n",
      "Place your bets: 500\n",
      "Player got 11 point\n",
      "Player win!\n",
      "Your total fund is: 1500\n",
      "Place your bets: 500\n",
      "Player got 12 point\n",
      "Banker win!\n",
      "Your total fund is: 1000\n",
      "Place your bets: 500\n",
      "Player got 9 point\n",
      "Player got 9 point\n",
      "Player win\n",
      "Your total fund is: 1500\n",
      "Place your bets: 500\n",
      "Player got 9 point\n",
      "Player got 3 point\n",
      "Player got 6 point\n",
      "Player got 6 point\n",
      "Player got 4 point\n",
      "Player got 8 point\n",
      "Player got 12 point\n",
      "Player got 3 point\n",
      "Player got 4 point\n",
      "Player got 12 point\n",
      "Player got 8 point\n",
      "Player got 7 point\n",
      "Banker win\n",
      "Your total fund is: 1000\n",
      "Place your bets: 500\n",
      "Player got 8 point\n",
      "Player got 6 point\n",
      "Player got 8 point\n",
      "Player win\n",
      "Your total fund is: 1500\n",
      "Place your bets: 500\n",
      "Player got 6 point\n",
      "Player got 7 point\n",
      "Banker win\n",
      "Your total fund is: 1000\n",
      "Place your bets: 1000\n",
      "Player got 9 point\n",
      "Player got 6 point\n",
      "Player got 11 point\n",
      "Player got 12 point\n",
      "Player got 2 point\n",
      "Player got 5 point\n",
      "Player got 3 point\n",
      "Player got 9 point\n",
      "Player win\n",
      "Your total fund is: 2000\n",
      "Congratulations! You doubled your money!\n"
     ]
    }
   ],
   "source": [
    "from random import randint\n",
    "\n",
    "money = 1000\n",
    "while money >= 0:\n",
    "    print('Your total fund is:', money)\n",
    "    needs_go_on = False\n",
    "    if money >= 2000:\n",
    "        print('Congratulations! You doubled your money!')\n",
    "        break\n",
    "    elif money == 0:\n",
    "        print('You lose all, game over!')\n",
    "        break\n",
    "    while True:\n",
    "        debt = int(input('Place your bets: '))\n",
    "        if 0 < debt <= money:\n",
    "            break\n",
    "        else:\n",
    "            print('Plz input right bets')\n",
    "\n",
    "    first = randint(1, 6) + randint(1, 6)\n",
    "    print('Player got %d point' % first)\n",
    "    if first == 7 or first == 11:\n",
    "        print('Player win!')\n",
    "        money += debt\n",
    "    elif first == 2 or first == 3 or first == 12:\n",
    "        print('Banker win!')\n",
    "        money -= debt\n",
    "    else:\n",
    "        needs_go_on = True\n",
    "\n",
    "    while needs_go_on:\n",
    "        current = randint(1, 6) + randint(1, 6)\n",
    "        print('Player got %d point' % current)\n",
    "        if current == 7:\n",
    "            print('Banker win')\n",
    "            money -= debt\n",
    "            needs_go_on = False\n",
    "        elif current == first:\n",
    "            print('Player win')\n",
    "            money += debt\n",
    "            needs_go_on = False"
   ]
  },
  {
   "cell_type": "code",
   "execution_count": 197,
   "metadata": {},
   "outputs": [
    {
     "name": "stdout",
     "output_type": "stream",
     "text": [
      "35\n"
     ]
    }
   ],
   "source": [
    "n = 0\n",
    "for x in range(1,8):\n",
    "    for y in range(1,8):\n",
    "        for w in range(1,8):\n",
    "            for z in range(1,8):\n",
    "                if x+ y+ w+ z == 8:\n",
    "                    n += 1\n",
    "print(n)"
   ]
  },
  {
   "cell_type": "code",
   "execution_count": 194,
   "metadata": {},
   "outputs": [
    {
     "name": "stdout",
     "output_type": "stream",
     "text": [
      "m = 3\n",
      "n = 2\n",
      "3\n"
     ]
    }
   ],
   "source": [
    "def factorial(num):\n",
    "    \"\"\"\n",
    "    求阶乘\n",
    "    \n",
    "    :param num: 非负整数\n",
    "    :return: num的阶乘\n",
    "    \"\"\"\n",
    "    result = 1\n",
    "    for n in range(1, num + 1):\n",
    "        result *= n\n",
    "    return result\n",
    "\n",
    "\n",
    "m = int(input('m = '))\n",
    "n = int(input('n = '))\n",
    "# 当需要计算阶乘的时候不用再写循环求阶乘而是直接调用已经定义好的函数\n",
    "print(factorial(m) // factorial(n) // factorial(m - n))"
   ]
  },
  {
   "cell_type": "code",
   "execution_count": 200,
   "metadata": {},
   "outputs": [
    {
     "name": "stdout",
     "output_type": "stream",
     "text": [
      "6\n",
      "9\n",
      "0\n",
      "1\n",
      "3\n",
      "6\n",
      "350\n"
     ]
    }
   ],
   "source": [
    "from random import randint\n",
    "\n",
    "\n",
    "def roll_dice(n=2):\n",
    "    \"\"\"\n",
    "    摇色子\n",
    "    \n",
    "    :param n: 色子的个数\n",
    "    :return: n颗色子点数之和\n",
    "    \"\"\"\n",
    "    total = 0\n",
    "    for _ in range(n):\n",
    "        total += randint(1, 6)\n",
    "    return total\n",
    "\n",
    "\n",
    "def add(a=0, b=0, c=0):\n",
    "    return a + b + c\n",
    "\n",
    "\n",
    "# 如果没有指定参数那么使用默认值摇两颗色子\n",
    "print(roll_dice())\n",
    "# 摇三颗色子\n",
    "print(roll_dice(3))\n",
    "print(add())\n",
    "print(add(1))\n",
    "print(add(1, 2))\n",
    "print(add(1, 2, 3))\n",
    "# 传递参数时可以不按照设定的顺序进行传递\n",
    "print(add(c=50, a=100, b=200))"
   ]
  },
  {
   "cell_type": "code",
   "execution_count": 201,
   "metadata": {},
   "outputs": [
    {
     "name": "stdout",
     "output_type": "stream",
     "text": [
      "0\n",
      "1\n",
      "3\n",
      "6\n",
      "25\n"
     ]
    }
   ],
   "source": [
    "# 在参数名前面的*表示args是一个可变参数\n",
    "# 即在调用add函数时可以传入0个或多个参数\n",
    "def add(*args):\n",
    "    total = 0\n",
    "    for val in args:\n",
    "        total += val\n",
    "    return total\n",
    "\n",
    "\n",
    "print(add())\n",
    "print(add(1))\n",
    "print(add(1, 2))\n",
    "print(add(1, 2, 3))\n",
    "print(add(1, 3, 5, 7, 9))"
   ]
  },
  {
   "cell_type": "code",
   "execution_count": 277,
   "metadata": {},
   "outputs": [],
   "source": [
    "\"\"\"\n",
    "how many years for the ethnic group to stabilize\n",
    "\n",
    "m/f = 1/2\n",
    "30 years is one generation\n",
    "2 ~ 3 children per family every generation\n",
    "Average life expectancy is around 30\n",
    "\n",
    "\n",
    "Version: 2.3\n",
    "Author: Austin\n",
    "\"\"\"\n",
    "\n",
    "\n",
    "from random import randint\n",
    "\n",
    "def predict(p=6):\n",
    "    y = 0\n",
    "    current = p\n",
    "    while current > 0:\n",
    "\n",
    "        go_on = False\n",
    "        neonatus = randint(2, 3)\n",
    "        add = current/2 * neonatus\n",
    "        p = add + current\n",
    "        if p >= 5000:\n",
    "            print('The ethnic is stable as the population is larger than 5000 now')\n",
    "            break\n",
    "        else:\n",
    "            y += 30\n",
    "            print('The population now is %d' % p)\n",
    "            go_on = True\n",
    "        \n",
    "        while go_on:\n",
    "            current = add\n",
    "            p = current\n",
    "            go_on = False\n",
    "    print('It took %d years for the ethnic group to stabilize' % y)"
   ]
  },
  {
   "cell_type": "code",
   "execution_count": 337,
   "metadata": {},
   "outputs": [
    {
     "name": "stdout",
     "output_type": "stream",
     "text": [
      "The population now is 12\n",
      "The population now is 15\n",
      "The population now is 18\n",
      "The population now is 18\n",
      "The population now is 18\n",
      "The population now is 18\n",
      "The population now is 18\n",
      "The population now is 22\n",
      "The population now is 27\n",
      "The population now is 27\n",
      "The population now is 27\n",
      "The population now is 33\n",
      "The population now is 40\n",
      "The population now is 40\n",
      "The population now is 40\n",
      "The population now is 40\n",
      "The population now is 50\n",
      "The population now is 60\n",
      "The population now is 75\n",
      "The population now is 91\n",
      "The population now is 113\n",
      "The population now is 136\n",
      "The population now is 170\n",
      "The population now is 256\n",
      "The population now is 384\n",
      "The population now is 461\n",
      "The population now is 576\n",
      "The population now is 691\n",
      "The population now is 691\n",
      "The population now is 864\n",
      "The population now is 1297\n",
      "The population now is 1946\n",
      "The population now is 2919\n",
      "The population now is 4378\n",
      "The ethnic is stable as the population is larger than 5000 now\n",
      "It took 1020 years for the ethnic group to stabilize\n"
     ]
    }
   ],
   "source": [
    "predict(6)"
   ]
  },
  {
   "cell_type": "code",
   "execution_count": 301,
   "metadata": {},
   "outputs": [
    {
     "name": "stdout",
     "output_type": "stream",
     "text": [
      "251 749\t 252 748\t 253 747\t 254 746\t 255 745\t 256 744\t 257 743\t 258 742\t 259 741\t 260 740\t 261 739\t 262 738\t 263 737\t 264 736\t 265 735\t 266 734\t 267 733\t 268 732\t 269 731\t 270 730\t 271 729\t 272 728\t 273 727\t 274 726\t 275 725\t 276 724\t 277 723\t 278 722\t 279 721\t 280 720\t 281 719\t 282 718\t 283 717\t 284 716\t 285 715\t 286 714\t 287 713\t 288 712\t 289 711\t 290 710\t 291 709\t 292 708\t 293 707\t 294 706\t 295 705\t 296 704\t 297 703\t 298 702\t 299 701\t 300 700\t 301 699\t 302 698\t 303 697\t 304 696\t 305 695\t 306 694\t 307 693\t 308 692\t 309 691\t 310 690\t 311 689\t 312 688\t 313 687\t 314 686\t 315 685\t 316 684\t 317 683\t 318 682\t 319 681\t 320 680\t 321 679\t 322 678\t 323 677\t 324 676\t 325 675\t 326 674\t 327 673\t 328 672\t 329 671\t 330 670\t 331 669\t 332 668\t 333 667\t 334 666\t 335 665\t 336 664\t 337 663\t 338 662\t 339 661\t 340 660\t 341 659\t 342 658\t 343 657\t 344 656\t 345 655\t 346 654\t 347 653\t 348 652\t 349 651\t 350 650\t 351 649\t 352 648\t 353 647\t 354 646\t 355 645\t 356 644\t 357 643\t 358 642\t 359 641\t 360 640\t 361 639\t 362 638\t 363 637\t 364 636\t 365 635\t 366 634\t 367 633\t 368 632\t 369 631\t 370 630\t 371 629\t 372 628\t 373 627\t 374 626\t 375 625\t 376 624\t 377 623\t 378 622\t 379 621\t 380 620\t 381 619\t 382 618\t 383 617\t 384 616\t 385 615\t 386 614\t 387 613\t 388 612\t 389 611\t 390 610\t 391 609\t 392 608\t 393 607\t 394 606\t 395 605\t 396 604\t 397 603\t 398 602\t 399 601\t 400 600\t 401 599\t 402 598\t 403 597\t 404 596\t 405 595\t 406 594\t 407 593\t 408 592\t 409 591\t 410 590\t 411 589\t 412 588\t 413 587\t 414 586\t 415 585\t 416 584\t 417 583\t 418 582\t 419 581\t 420 580\t 421 579\t 422 578\t 423 577\t 424 576\t 425 575\t 426 574\t 427 573\t 428 572\t 429 571\t 430 570\t 431 569\t 432 568\t 433 567\t 434 566\t 435 565\t 436 564\t 437 563\t 438 562\t 439 561\t 440 560\t 441 559\t 442 558\t 443 557\t 444 556\t 445 555\t 446 554\t 447 553\t 448 552\t 449 551\t 450 550\t 451 549\t 452 548\t 453 547\t 454 546\t 455 545\t 456 544\t 457 543\t 458 542\t 459 541\t 460 540\t 461 539\t 462 538\t 463 537\t 464 536\t 465 535\t 466 534\t 467 533\t 468 532\t 469 531\t 470 530\t 471 529\t 472 528\t 473 527\t 474 526\t 475 525\t 476 524\t 477 523\t 478 522\t 479 521\t 480 520\t 481 519\t 482 518\t 483 517\t 484 516\t 485 515\t 486 514\t 487 513\t 488 512\t 489 511\t 490 510\t 491 509\t 492 508\t 493 507\t 494 506\t 495 505\t 496 504\t 497 503\t 498 502\t 499 501\t "
     ]
    }
   ],
   "source": [
    "a = 1000 \n",
    "for b in range (1,a):\n",
    "    for c in range (1,a):\n",
    "        if b + c == a and b < c and c < 3*a/4:\n",
    "            print(b, c, end ='\\t ')"
   ]
  },
  {
   "cell_type": "raw",
   "metadata": {},
   "source": []
  },
  {
   "cell_type": "code",
   "execution_count": 308,
   "metadata": {},
   "outputs": [],
   "source": [
    "def gcd(x, y):\n",
    "    (x, y) = (y, x) if x > y else (x, y)\n",
    "    for factor in range(x, 0, -1):\n",
    "        if x % factor == 0 and y % factor == 0:\n",
    "            return factor\n",
    "\n",
    "\n",
    "def lcm(x, y):\n",
    "    return x * y // gcd(x, y)\n"
   ]
  },
  {
   "cell_type": "code",
   "execution_count": 309,
   "metadata": {},
   "outputs": [
    {
     "data": {
      "text/plain": [
       "2"
      ]
     },
     "execution_count": 309,
     "metadata": {},
     "output_type": "execute_result"
    }
   ],
   "source": [
    "gcd(146, 856)"
   ]
  },
  {
   "cell_type": "code",
   "execution_count": 310,
   "metadata": {},
   "outputs": [
    {
     "data": {
      "text/plain": [
       "62488"
      ]
     },
     "execution_count": 310,
     "metadata": {},
     "output_type": "execute_result"
    }
   ],
   "source": [
    "lcm(146, 856)"
   ]
  },
  {
   "cell_type": "code",
   "execution_count": 311,
   "metadata": {},
   "outputs": [],
   "source": [
    "def is_palindrome(num):\n",
    "    temp = num\n",
    "    total = 0\n",
    "    while temp > 0:\n",
    "        total = total * 10 + temp % 10\n",
    "        temp //= 10\n",
    "    return total == num"
   ]
  },
  {
   "cell_type": "code",
   "execution_count": 313,
   "metadata": {},
   "outputs": [
    {
     "data": {
      "text/plain": [
       "True"
      ]
     },
     "execution_count": 313,
     "metadata": {},
     "output_type": "execute_result"
    }
   ],
   "source": [
    "is_palindrome(1221)"
   ]
  },
  {
   "cell_type": "code",
   "execution_count": 318,
   "metadata": {},
   "outputs": [],
   "source": [
    "def is_prime(num):\n",
    "    for factor in range(2, num):\n",
    "        if num % factor == 0:\n",
    "            return False\n",
    "    return True if num != 1 else False"
   ]
  },
  {
   "cell_type": "code",
   "execution_count": 321,
   "metadata": {},
   "outputs": [
    {
     "data": {
      "text/plain": [
       "False"
      ]
     },
     "execution_count": 321,
     "metadata": {},
     "output_type": "execute_result"
    }
   ],
   "source": [
    "is_prime(1)"
   ]
  },
  {
   "cell_type": "code",
   "execution_count": 323,
   "metadata": {},
   "outputs": [
    {
     "name": "stdout",
     "output_type": "stream",
     "text": [
      "请输入正整数: 3\n",
      "3是回文素数\n"
     ]
    }
   ],
   "source": [
    "if __name__ == '__main__':\n",
    "    num = int(input('请输入正整数: '))\n",
    "    if is_palindrome(num) and is_prime(num):\n",
    "        print('%d是回文素数' % num)"
   ]
  },
  {
   "cell_type": "code",
   "execution_count": null,
   "metadata": {},
   "outputs": [],
   "source": [
    "def foo():\n",
    "    a = 200\n",
    "    print(a)  # 200\n",
    "\n",
    "\n",
    "if __name__ == '__main__':\n",
    "    a = 100\n",
    "    foo()\n",
    "    print(a)  # 100"
   ]
  }
 ],
 "metadata": {
  "kernelspec": {
   "display_name": "Python 3",
   "language": "python",
   "name": "python3"
  },
  "language_info": {
   "codemirror_mode": {
    "name": "ipython",
    "version": 3
   },
   "file_extension": ".py",
   "mimetype": "text/x-python",
   "name": "python",
   "nbconvert_exporter": "python",
   "pygments_lexer": "ipython3",
   "version": "3.7.3"
  }
 },
 "nbformat": 4,
 "nbformat_minor": 2
}
