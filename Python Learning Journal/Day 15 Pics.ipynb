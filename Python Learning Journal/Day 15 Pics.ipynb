{
 "cells": [
  {
   "cell_type": "code",
   "execution_count": 9,
   "metadata": {},
   "outputs": [],
   "source": [
    "from PIL import Image\n",
    "\n",
    "image = Image.open('/Users/mac/Downloads/Pictures/Background/2019/gamersky_08origin_15_2019321457125.jpg')\n",
    "image.format, image.size, image.mode\n",
    "('JPEG', (500, 750), 'RGB')\n",
    "image.show()"
   ]
  },
  {
   "cell_type": "code",
   "execution_count": 10,
   "metadata": {},
   "outputs": [],
   "source": [
    "image = Image.open('/Users/mac/Downloads/Pictures/Background/2019/gamersky_08origin_15_2019321457125.jpg')\n",
    "size = 128, 128\n",
    "image.thumbnail(size)\n",
    "image.show()"
   ]
  },
  {
   "cell_type": "code",
   "execution_count": 14,
   "metadata": {},
   "outputs": [],
   "source": [
    "image = Image.open('/Users/mac/Downloads/Pictures/Background/2019/gamersky_08origin_15_2019321457125.jpg')\n",
    "image.rotate(180).show()\n",
    "image.transpose(Image.FLIP_LEFT_RIGHT).show()"
   ]
  },
  {
   "cell_type": "code",
   "execution_count": 30,
   "metadata": {},
   "outputs": [],
   "source": [
    "image = Image.open('/Users/mac/Downloads/Pictures/Background/2019/gamersky_08origin_15_2019321457125.jpg')\n",
    "for x in range(900, 1070):\n",
    "     for y in range(50, 220):\n",
    "         image.putpixel((x, y), (128, 128, 128))\n",
    " \n",
    "image.show()"
   ]
  },
  {
   "cell_type": "code",
   "execution_count": 32,
   "metadata": {},
   "outputs": [],
   "source": [
    "from PIL import Image, ImageFilter\n",
    "\n",
    "image = Image.open('/Users/mac/Downloads/Pictures/Background/2019/gamersky_08origin_15_2019321457125.jpg')\n",
    "image.filter(ImageFilter.CONTOUR).show()"
   ]
  },
  {
   "cell_type": "code",
   "execution_count": null,
   "metadata": {},
   "outputs": [],
   "source": []
  }
 ],
 "metadata": {
  "kernelspec": {
   "display_name": "Python 3",
   "language": "python",
   "name": "python3"
  },
  "language_info": {
   "codemirror_mode": {
    "name": "ipython",
    "version": 3
   },
   "file_extension": ".py",
   "mimetype": "text/x-python",
   "name": "python",
   "nbconvert_exporter": "python",
   "pygments_lexer": "ipython3",
   "version": "3.7.3"
  }
 },
 "nbformat": 4,
 "nbformat_minor": 2
}
