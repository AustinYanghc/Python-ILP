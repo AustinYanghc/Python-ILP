{
 "cells": [
  {
   "cell_type": "code",
   "execution_count": 1,
   "metadata": {},
   "outputs": [],
   "source": [
    "import tkinter\n",
    "import tkinter.messagebox\n",
    "\n",
    "\n",
    "def main():\n",
    "    flag = True\n",
    "\n",
    "    # 修改标签上的文字\n",
    "    def change_label_text():\n",
    "        nonlocal flag\n",
    "        flag = not flag\n",
    "        color, msg = ('red', 'Hello, world!')\\\n",
    "            if flag else ('blue', 'Goodbye, world!')\n",
    "        label.config(text=msg, fg=color)\n",
    "\n",
    "    # 确认退出\n",
    "    def confirm_to_quit():\n",
    "        if tkinter.messagebox.askokcancel('温馨提示', '确定要退出吗?'):\n",
    "            top.quit()\n",
    "\n",
    "    # 创建顶层窗口\n",
    "    top = tkinter.Tk()\n",
    "    # 设置窗口大小\n",
    "    top.geometry('240x160')\n",
    "    # 设置窗口标题\n",
    "    top.title('小游戏')\n",
    "    # 创建标签对象并添加到顶层窗口\n",
    "    label = tkinter.Label(top, text='Hello, world!', font='Arial -32', fg='red')\n",
    "    label.pack(expand=1)\n",
    "    # 创建一个装按钮的容器\n",
    "    panel = tkinter.Frame(top)\n",
    "    # 创建按钮对象 指定添加到哪个容器中 通过command参数绑定事件回调函数\n",
    "    button1 = tkinter.Button(panel, text='修改', command=change_label_text)\n",
    "    button1.pack(side='left')\n",
    "    button2 = tkinter.Button(panel, text='退出', command=confirm_to_quit)\n",
    "    button2.pack(side='right')\n",
    "    panel.pack(side='bottom')\n",
    "    # 开启主事件循环\n",
    "    tkinter.mainloop()\n",
    "\n",
    "\n",
    "if __name__ == '__main__':\n",
    "    main()"
   ]
  },
  {
   "cell_type": "code",
   "execution_count": 1,
   "metadata": {},
   "outputs": [
    {
     "ename": "ModuleNotFoundError",
     "evalue": "No module named 'pygame'",
     "output_type": "error",
     "traceback": [
      "\u001b[0;31m---------------------------------------------------------------------------\u001b[0m",
      "\u001b[0;31mModuleNotFoundError\u001b[0m                       Traceback (most recent call last)",
      "\u001b[0;32m<ipython-input-1-4511f4789148>\u001b[0m in \u001b[0;36m<module>\u001b[0;34m\u001b[0m\n\u001b[0;32m----> 1\u001b[0;31m \u001b[0;32mimport\u001b[0m \u001b[0mpygame\u001b[0m\u001b[0;34m\u001b[0m\u001b[0;34m\u001b[0m\u001b[0m\n\u001b[0m\u001b[1;32m      2\u001b[0m \u001b[0;34m\u001b[0m\u001b[0m\n\u001b[1;32m      3\u001b[0m \u001b[0;34m\u001b[0m\u001b[0m\n\u001b[1;32m      4\u001b[0m \u001b[0;32mdef\u001b[0m \u001b[0mmain\u001b[0m\u001b[0;34m(\u001b[0m\u001b[0;34m)\u001b[0m\u001b[0;34m:\u001b[0m\u001b[0;34m\u001b[0m\u001b[0;34m\u001b[0m\u001b[0m\n\u001b[1;32m      5\u001b[0m     \u001b[0;31m# 初始化导入的pygame中的模块\u001b[0m\u001b[0;34m\u001b[0m\u001b[0;34m\u001b[0m\u001b[0;34m\u001b[0m\u001b[0m\n",
      "\u001b[0;31mModuleNotFoundError\u001b[0m: No module named 'pygame'"
     ]
    }
   ],
   "source": [
    "import pygame\n",
    "\n",
    "\n",
    "def main():\n",
    "    # 初始化导入的pygame中的模块\n",
    "    pygame.init()\n",
    "    # 初始化用于显示的窗口并设置窗口尺寸\n",
    "    screen = pygame.display.set_mode((800, 600))\n",
    "    # 设置当前窗口的标题\n",
    "    pygame.display.set_caption('大球吃小球')\n",
    "    running = True\n",
    "    # 开启一个事件循环处理发生的事件\n",
    "    while running:\n",
    "        # 从消息队列中获取事件并对事件进行处理\n",
    "        for event in pygame.event.get():\n",
    "            if event.type == pygame.QUIT:\n",
    "                running = False\n",
    "\n",
    "\n",
    "if __name__ == '__main__':\n",
    "    main()"
   ]
  },
  {
   "cell_type": "code",
   "execution_count": 4,
   "metadata": {},
   "outputs": [
    {
     "name": "stdout",
     "output_type": "stream",
     "text": [
      "123\n",
      "456\n",
      "789\n",
      "\n"
     ]
    }
   ],
   "source": [
    "def main():\n",
    "    f = open('1.txt', 'r', encoding='utf-8')\n",
    "    print(f.read())\n",
    "    f.close()\n",
    "\n",
    "\n",
    "if __name__ == '__main__':\n",
    "    main()"
   ]
  },
  {
   "cell_type": "code",
   "execution_count": 7,
   "metadata": {},
   "outputs": [
    {
     "name": "stdout",
     "output_type": "stream",
     "text": [
      "Cannot find this file!\n"
     ]
    }
   ],
   "source": [
    "def main():\n",
    "    f = None\n",
    "    try:\n",
    "        f = open('123.txt', 'r', encoding='utf-8')\n",
    "        print(f.read())\n",
    "    except FileNotFoundError:\n",
    "        print('Cannot find this file!')\n",
    "    except LookupError:\n",
    "        print('Unknown encoding!')\n",
    "    except UnicodeDecodeError:\n",
    "        print('Decode Error!')\n",
    "    finally:\n",
    "        if f:\n",
    "            f.close()\n",
    "\n",
    "\n",
    "if __name__ == '__main__':\n",
    "    main()"
   ]
  },
  {
   "cell_type": "code",
   "execution_count": 12,
   "metadata": {},
   "outputs": [
    {
     "name": "stdout",
     "output_type": "stream",
     "text": [
      "Unknown encoding!\n"
     ]
    }
   ],
   "source": [
    "def main():\n",
    "    #通过with关键字指定文件对象的上下文环境并在离开上下文环境时自动释放文件资源\n",
    "    try:\n",
    "        with open('1.txt', 'r', encoding='utf-1234') as f:\n",
    "            print(f.read())\n",
    "    except FileNotFoundError:\n",
    "        print('Cannot find this file!')\n",
    "    except LookupError:\n",
    "        print('Unknown encoding!')\n",
    "    except UnicodeDecodeError:\n",
    "        print('Decode Error!')\n",
    "\n",
    "\n",
    "if __name__ == '__main__':\n",
    "    main()"
   ]
  },
  {
   "cell_type": "code",
   "execution_count": 14,
   "metadata": {},
   "outputs": [
    {
     "name": "stdout",
     "output_type": "stream",
     "text": [
      "123\n",
      "456\n",
      "789\n",
      "\n",
      "123\n",
      "456\n",
      "789\n",
      "\n",
      "['123\\n', '456\\n', '789\\n']\n"
     ]
    }
   ],
   "source": [
    "import time\n",
    "\n",
    "\n",
    "def main():\n",
    "    # 一次性读取整个文件内容\n",
    "    with open('1.txt', 'r', encoding='utf-8') as f:\n",
    "        print(f.read())\n",
    "\n",
    "    # 通过for-in循环逐行读取\n",
    "    with open('1.txt', mode='r') as f:\n",
    "        for line in f:\n",
    "            print(line, end='')\n",
    "            time.sleep(1)\n",
    "    print()\n",
    "\n",
    "    # 读取文件按行读取到列表中\n",
    "    with open('1.txt') as f:\n",
    "        lines = f.readlines()\n",
    "    print(lines)\n",
    "    \n",
    "\n",
    "if __name__ == '__main__':\n",
    "    main()"
   ]
  },
  {
   "cell_type": "code",
   "execution_count": 19,
   "metadata": {},
   "outputs": [
    {
     "name": "stdout",
     "output_type": "stream",
     "text": [
      "Task completed!\n"
     ]
    }
   ],
   "source": [
    "from math import sqrt\n",
    "\n",
    "\n",
    "def is_prime(n):\n",
    "    \"\"\"判断素数的函数\"\"\"\n",
    "    assert n > 0\n",
    "    for factor in range(2, int(sqrt(n)) + 1):\n",
    "        if n % factor == 0:\n",
    "            return False\n",
    "    return True if n != 1 else False\n",
    "\n",
    "\n",
    "def main():\n",
    "    filenames = ('a.txt', 'b.txt', 'c.txt')\n",
    "    fs_list = []\n",
    "    try:\n",
    "        for filename in filenames:\n",
    "            fs_list.append(open(filename, 'w', encoding='utf-8'))\n",
    "        for number in range(1, 10000):\n",
    "            if is_prime(number):\n",
    "                if number < 100:\n",
    "                    fs_list[0].write(str(number) + '\\n')\n",
    "                elif number < 1000:\n",
    "                    fs_list[1].write(str(number) + '\\n')\n",
    "                else:\n",
    "                    fs_list[2].write(str(number) + '\\n')\n",
    "    except IOError as ex:\n",
    "        print(ex)\n",
    "        print('Something wrong during writing!')\n",
    "    finally:\n",
    "        for fs in fs_list:\n",
    "            fs.close()\n",
    "    print('Task completed!')\n",
    "\n",
    "\n",
    "if __name__ == '__main__':\n",
    "    main()"
   ]
  },
  {
   "cell_type": "code",
   "execution_count": 20,
   "metadata": {},
   "outputs": [
    {
     "name": "stdout",
     "output_type": "stream",
     "text": [
      "<class 'bytes'>\n",
      "Task completed.\n"
     ]
    }
   ],
   "source": [
    "def main():\n",
    "    try:\n",
    "        with open('gamersky_08origin_15_2019321457125.jpg', 'rb') as fs1:\n",
    "            data = fs1.read()\n",
    "            print(type(data))  # <class 'bytes'>\n",
    "        with open('gamersky_10origin_19_2019391551823.jpg', 'wb') as fs2:\n",
    "            fs2.write(data)\n",
    "    except FileNotFoundError as e:\n",
    "        print('Cannot find this file.')\n",
    "    except IOError as e:\n",
    "        print('Error occurs when trying to read.')\n",
    "    print('Task completed.')\n",
    "\n",
    "\n",
    "if __name__ == '__main__':\n",
    "    main()"
   ]
  },
  {
   "cell_type": "code",
   "execution_count": 21,
   "metadata": {},
   "outputs": [
    {
     "name": "stdout",
     "output_type": "stream",
     "text": [
      "Data saved as json!\n"
     ]
    }
   ],
   "source": [
    "import json\n",
    "\n",
    "\n",
    "def main():\n",
    "    mydict = {\n",
    "        'name': 'Austin',\n",
    "        'age': 26,\n",
    "        'qq': 957658,\n",
    "        'friends': ['Finlay', 'Eric'],\n",
    "        'cars': [\n",
    "            {'brand': 'BMW', 'max_speed': 300},\n",
    "            {'brand': 'Audi', 'max_speed': 280},\n",
    "            {'brand': 'Benz', 'max_speed': 320}\n",
    "        ]\n",
    "    }\n",
    "    try:\n",
    "        with open('data.json', 'w', encoding='utf-8') as fs:\n",
    "            json.dump(mydict, fs)\n",
    "    except IOError as e:\n",
    "        print(e)\n",
    "    print('Data saved as json!')\n",
    "\n",
    "\n",
    "if __name__ == '__main__':\n",
    "    main()"
   ]
  },
  {
   "cell_type": "code",
   "execution_count": 25,
   "metadata": {},
   "outputs": [
    {
     "name": "stdout",
     "output_type": "stream",
     "text": [
      "马云对话马斯克：火星很好 但更关心有70亿人的\n",
      "马斯克想去火星，马云却说他不是星际移民的粉丝\n",
      "美图公司战略投资大街网，总交易金额3.95亿港元\n",
      "马斯克：如果打不过AI，就和它组队吧\n",
      "腾讯控股跌势不止，已抹去年内全部涨幅\n",
      "B站大V背书刷单事件进展：涉案金额6000万元以上\n",
      "FF回应贾跃亭将卸任CEO：架构变革近期将公布细\n",
      "暴风反思录:冯鑫被捕成内部禁忌 创业初心如何\n",
      "董明珠想再跟雷军赌5年：带着各自烦恼同步疯狂\n",
      "旗下网站VIP账号被出租，爱奇艺获赔300万\n",
      "Data saved as json!\n"
     ]
    }
   ],
   "source": [
    "import requests\n",
    "import json\n",
    "\n",
    "\n",
    "def main():\n",
    "    resp = requests.get('http://api.tianapi.com/internet/?key=31826537a02449c710d40ae766d22bcf&num=10')\n",
    "    data_model = json.loads(resp.text)\n",
    "    for news in data_model['newslist']:\n",
    "        print(news['title'])\n",
    "        \n",
    "    try:\n",
    "        with open('news.json', 'w', encoding='utf-8') as fs:\n",
    "            json.dump(data_model, fs)\n",
    "    except IOError as e:\n",
    "        print(e)\n",
    "    print('Data saved as json!')\n",
    "\n",
    "\n",
    "if __name__ == '__main__':\n",
    "    main()"
   ]
  },
  {
   "cell_type": "code",
   "execution_count": null,
   "metadata": {},
   "outputs": [],
   "source": []
  }
 ],
 "metadata": {
  "kernelspec": {
   "display_name": "Python 3",
   "language": "python",
   "name": "python3"
  },
  "language_info": {
   "codemirror_mode": {
    "name": "ipython",
    "version": 3
   },
   "file_extension": ".py",
   "mimetype": "text/x-python",
   "name": "python",
   "nbconvert_exporter": "python",
   "pygments_lexer": "ipython3",
   "version": "3.7.3"
  }
 },
 "nbformat": 4,
 "nbformat_minor": 2
}
