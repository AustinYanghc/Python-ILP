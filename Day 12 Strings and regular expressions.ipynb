{
 "cells": [
  {
   "cell_type": "code",
   "execution_count": 8,
   "metadata": {},
   "outputs": [
    {
     "name": "stdout",
     "output_type": "stream",
     "text": [
      "Plz input username: qwe123\n",
      "Plz input QQ number: 21345\n",
      "Plz input valid QQ number.\n"
     ]
    }
   ],
   "source": [
    "\"\"\"\n",
    "Verify that the input username and QQ number are valid.\n",
    "\n",
    "Usernames must be composed of letters, numbers or underscores, between 6 and 20 characters in length. \n",
    "QQ numbers are 5 to 12 numbers and the first place cannot be 0.\n",
    "\"\"\"\n",
    "import re\n",
    "\n",
    "\n",
    "def main():\n",
    "    username = input('Plz input username: ')\n",
    "    qq = input('Plz input QQ number: ')\n",
    "    # match函数的第一个参数是正则表达式字符串或正则表达式对象\n",
    "    # 第二个参数是要跟正则表达式做匹配的字符串对象\n",
    "    m1 = re.match(r'^[0-9a-zA-Z_]{6,20}$', username)\n",
    "    if not m1:\n",
    "        print('Plz input valid username.')\n",
    "    m2 = re.match(r'^[1-9]\\d{4,11}$', qq)\n",
    "    if not m2:\n",
    "        print('Plz input valid QQ number.')\n",
    "    if m1 and m2:\n",
    "        print('All the info are valid!')\n",
    "\n",
    "\n",
    "if __name__ == '__main__':\n",
    "    main()"
   ]
  },
  {
   "cell_type": "code",
   "execution_count": 19,
   "metadata": {},
   "outputs": [
    {
     "name": "stdout",
     "output_type": "stream",
     "text": [
      "['0412346789', '0460099876', '0400998765']\n",
      "----------------\n",
      "0412346789\n",
      "0460099876\n",
      "0400998765\n",
      "----------------\n",
      "0412346789\n",
      "0460099876\n",
      "0400998765\n"
     ]
    }
   ],
   "source": [
    "import re\n",
    "\n",
    "\n",
    "def main():\n",
    "    # 创建正则表达式对象 使用了前瞻和回顾来保证手机号前后不应该出现数字\n",
    "    pattern = re.compile(r'(?<=\\D)04\\d{8}(?=\\D)')\n",
    "    sentence = '''\n",
    "    重要的事情说80401234567遍，我的手机号是0412346789这个靓号，\n",
    "    不是0460099876，也是040或041，王大锤的手机号才是0400998765。\n",
    "    '''\n",
    "    # 查找所有匹配并保存到一个列表中\n",
    "    mylist = re.findall(pattern, sentence)\n",
    "    print(mylist)\n",
    "    print('----------------')\n",
    "    # 通过迭代器取出匹配对象并获得匹配的内容\n",
    "    for temp in pattern.finditer(sentence):\n",
    "        print(temp.group())\n",
    "    print('----------------')\n",
    "    # 通过search函数指定搜索位置找出所有匹配\n",
    "    m = pattern.search(sentence)\n",
    "    while m:\n",
    "        print(m.group())\n",
    "        m = pattern.search(sentence, m.end())\n",
    "\n",
    "\n",
    "if __name__ == '__main__':\n",
    "    main()"
   ]
  },
  {
   "cell_type": "code",
   "execution_count": 21,
   "metadata": {},
   "outputs": [
    {
     "name": "stdout",
     "output_type": "stream",
     "text": [
      "** you. **. ** Head. Son of a **.\n"
     ]
    }
   ],
   "source": [
    "import re\n",
    "\n",
    "\n",
    "def main():\n",
    "    sentence = 'Fuck you. Shit. Dick Head. Son of a bitch.'\n",
    "    purified = re.sub('[操肏艹]|fuck|shit|傻[比屄逼叉缺吊屌]|煞笔|bitch|dick',\n",
    "                      '**', sentence, flags=re.IGNORECASE)\n",
    "    print(purified)  # 你丫是*吗? 我*你大爷的. * you.\n",
    "\n",
    "\n",
    "if __name__ == '__main__':\n",
    "    main()"
   ]
  },
  {
   "cell_type": "code",
   "execution_count": 26,
   "metadata": {},
   "outputs": [
    {
     "name": "stdout",
     "output_type": "stream",
     "text": [
      "['Two', 'roads', 'diverged', 'in', 'a', 'yellow', 'wood', 'And', 'sorry', 'I', 'could', 'not', 'travel', 'both', 'And', 'be', 'one', 'traveler', '\\n', 'long', 'I', 'stood，And', 'looked', 'down', 'one', 'as', 'far', 'as', 'I', 'could', 'To', 'where', 'it', 'bent', 'in', 'the', 'undergrowth']\n"
     ]
    }
   ],
   "source": [
    "import re\n",
    "\n",
    "\n",
    "def main():\n",
    "    poem = '''Two roads diverged in a yellow wood, And sorry I could not travel both, And be one traveler, \n",
    "    long I stood，And looked down one as far as I could, To where it bent in the undergrowth'''\n",
    "    sentence_list = re.split(r'[, .]', poem)\n",
    "    while '' in sentence_list:\n",
    "        sentence_list.remove('')\n",
    "    print(sentence_list)  \n",
    "\n",
    "\n",
    "if __name__ == '__main__':\n",
    "    main()"
   ]
  },
  {
   "cell_type": "code",
   "execution_count": 28,
   "metadata": {},
   "outputs": [
    {
     "name": "stdout",
     "output_type": "stream",
     "text": [
      "Start downloading Python.pdf...\n",
      "Python.pdf download completed! It took 6 seconds\n",
      "Start downloading Document.avi...\n",
      "Document.avi download completed! It took 9 seconds\n",
      "Totally took 15.01 seconds.\n"
     ]
    }
   ],
   "source": [
    "from random import randint\n",
    "from time import time, sleep\n",
    "\n",
    "\n",
    "def download_task(filename):\n",
    "    print('Start downloading %s...' % filename)\n",
    "    time_to_download = randint(5, 10)\n",
    "    sleep(time_to_download)\n",
    "    print('%s download completed! It took %d seconds' % (filename, time_to_download))\n",
    "\n",
    "\n",
    "def main():\n",
    "    start = time()\n",
    "    download_task('Python.pdf')\n",
    "    download_task('Document.avi')\n",
    "    end = time()\n",
    "    print('Totally took %.2f seconds.' % (end - start))\n",
    "\n",
    "\n",
    "if __name__ == '__main__':\n",
    "    main()"
   ]
  },
  {
   "cell_type": "code",
   "execution_count": 30,
   "metadata": {},
   "outputs": [
    {
     "name": "stdout",
     "output_type": "stream",
     "text": [
      "Start the download process, process number is [27980].\n",
      "Start downloading Python.pdf...\n",
      "Start the download process, process number is [27981].\n",
      "Start downloading Peking Hot.avi...\n",
      "Peking Hot.avi download completed! It took 6 seconds\n",
      "Python.pdf download completed! It took 7 seconds\n",
      "Totally took 7.02 seconds.\n"
     ]
    }
   ],
   "source": [
    "from multiprocessing import Process\n",
    "from os import getpid\n",
    "from random import randint\n",
    "from time import time, sleep\n",
    "\n",
    "\n",
    "def download_task(filename):\n",
    "    print('Start the download process, process number is [%d].' % getpid())\n",
    "    print('Start downloading %s...' % filename)\n",
    "    time_to_download = randint(5, 10)\n",
    "    sleep(time_to_download)\n",
    "    print('%s download completed! It took %d seconds' % (filename, time_to_download))\n",
    "\n",
    "\n",
    "def main():\n",
    "    start = time()\n",
    "    p1 = Process(target=download_task, args=('Python.pdf', ))\n",
    "    p1.start()\n",
    "    p2 = Process(target=download_task, args=('Peking Hot.avi', ))\n",
    "    p2.start()\n",
    "    p1.join()\n",
    "    p2.join()\n",
    "    end = time()\n",
    "    print('Totally took %.2f seconds.' % (end - start))\n",
    "\n",
    "\n",
    "if __name__ == '__main__':\n",
    "    main()"
   ]
  },
  {
   "cell_type": "code",
   "execution_count": 34,
   "metadata": {},
   "outputs": [
    {
     "name": "stdout",
     "output_type": "stream",
     "text": [
      "Hei Xiu Hei Xiu Hei Xiu Hei Xiu Hei Xiu Hei Xiu Hei Xiu Hei Xiu Hei Xiu Hei Xiu "
     ]
    }
   ],
   "source": [
    "from multiprocessing import Process\n",
    "from time import sleep\n",
    "\n",
    "counter = 0\n",
    "\n",
    "\n",
    "def sub_task(string):\n",
    "    global counter\n",
    "    while counter < 10:\n",
    "        print(string, end='', flush=True)\n",
    "        counter += 1\n",
    "        sleep(0.01)\n",
    "\n",
    "        \n",
    "def main():\n",
    "    Process(target=sub_task, args=('Hei ', )).start()\n",
    "    Process(target=sub_task, args=('Xiu ', )).start()\n",
    "\n",
    "\n",
    "if __name__ == '__main__':\n",
    "    main()"
   ]
  },
  {
   "cell_type": "code",
   "execution_count": 36,
   "metadata": {},
   "outputs": [
    {
     "name": "stdout",
     "output_type": "stream",
     "text": [
      "Start downloading Python.pdf...\n",
      "Start downloading Peking Hot.avi...\n",
      "Python.pdf download completed! It took 6 seconds.\n",
      "Peking Hot.avi download completed! It took 7 seconds.\n",
      "Totally took 7.005 seconds.\n"
     ]
    }
   ],
   "source": [
    "from random import randint\n",
    "from threading import Thread\n",
    "from time import time, sleep\n",
    "\n",
    "\n",
    "def download(filename):\n",
    "    print('Start downloading %s...' % filename)\n",
    "    time_to_download = randint(5, 10)\n",
    "    sleep(time_to_download)\n",
    "    print('%s download completed! It took %d seconds.' % (filename, time_to_download))\n",
    "\n",
    "\n",
    "def main():\n",
    "    start = time()\n",
    "    t1 = Thread(target=download, args=('Python.pdf',))\n",
    "    t1.start()\n",
    "    t2 = Thread(target=download, args=('Peking Hot.avi',))\n",
    "    t2.start()\n",
    "    t1.join()\n",
    "    t2.join()\n",
    "    end = time()\n",
    "    print('Totally took %.3f seconds.' % (end - start))\n",
    "\n",
    "\n",
    "if __name__ == '__main__':\n",
    "    main()"
   ]
  },
  {
   "cell_type": "code",
   "execution_count": 38,
   "metadata": {},
   "outputs": [
    {
     "name": "stdout",
     "output_type": "stream",
     "text": [
      "Start downloading Python.pdf...\n",
      "Start downloading Peking Hot.avi...\n",
      "Python.pdf download completed! It took 7 seconds.Peking Hot.avi download completed! It took 7 seconds.\n",
      "\n",
      "Totally took 7.00 seconds.\n"
     ]
    }
   ],
   "source": [
    "from random import randint\n",
    "from threading import Thread\n",
    "from time import time, sleep\n",
    "\n",
    "\n",
    "class DownloadTask(Thread):\n",
    "\n",
    "    def __init__(self, filename):\n",
    "        super().__init__()\n",
    "        self._filename = filename\n",
    "\n",
    "    def run(self):\n",
    "        print('Start downloading %s...' % self._filename)\n",
    "        time_to_download = randint(5, 10)\n",
    "        sleep(time_to_download)\n",
    "        print('%s download completed! It took %d seconds.' % (self._filename, time_to_download))\n",
    "\n",
    "\n",
    "def main():\n",
    "    start = time()\n",
    "    t1 = DownloadTask('Python.pdf')\n",
    "    t1.start()\n",
    "    t2 = DownloadTask('Peking Hot.avi')\n",
    "    t2.start()\n",
    "    t1.join()\n",
    "    t2.join()\n",
    "    end = time()\n",
    "    print('Totally took %.2f seconds.' % (end - start))\n",
    "\n",
    "\n",
    "if __name__ == '__main__':\n",
    "    main()"
   ]
  },
  {
   "cell_type": "code",
   "execution_count": null,
   "metadata": {},
   "outputs": [],
   "source": []
  }
 ],
 "metadata": {
  "kernelspec": {
   "display_name": "Python 3",
   "language": "python",
   "name": "python3"
  },
  "language_info": {
   "codemirror_mode": {
    "name": "ipython",
    "version": 3
   },
   "file_extension": ".py",
   "mimetype": "text/x-python",
   "name": "python",
   "nbconvert_exporter": "python",
   "pygments_lexer": "ipython3",
   "version": "3.7.3"
  }
 },
 "nbformat": 4,
 "nbformat_minor": 2
}
