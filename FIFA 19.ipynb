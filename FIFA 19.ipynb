{
 "cells": [
  {
   "cell_type": "code",
   "execution_count": 161,
   "metadata": {},
   "outputs": [
    {
     "name": "stdout",
     "output_type": "stream",
     "text": [
      "['hello.py', 'result.svg', 'FIFA 19.ipynb', 'Day 10 - 11 GUI, File and exception.ipynb', 'output.json', 'gamersky_08origin_15_2019321457125.jpg', 'gamersky_10origin_19_2019391551823.jpg', 'Day 12-13 Strings and regular expressions, Process and thread.ipynb', 'data.json', 'c.txt', 'news.json', 'b.txt', 'a.txt', 'Day 15 Pics.ipynb', '1.txt', '.ipynb_checkpoints', 'Day 16 - 20.ipynb', '.git', 'Day 01-06.ipynb', 'Day 07-.ipynb', 'Day 08 - 09 OO.ipynb', 'Matplotlib and Data visualization.ipynb', 'Day 14 Introduction to Network Programming.ipynb', 'fifa19.csv']\n"
     ]
    }
   ],
   "source": [
    "import numpy as np\n",
    "import pandas as pd \n",
    "\n",
    "import matplotlib.pyplot as plt\n",
    "import seaborn as sns\n",
    "%matplotlib inline\n",
    "\n",
    "import os\n",
    "print(os.listdir(\"../Python-ILP\"))"
   ]
  },
  {
   "cell_type": "code",
   "execution_count": 15,
   "metadata": {},
   "outputs": [
    {
     "name": "stdout",
     "output_type": "stream",
     "text": [
      "(18207, 89)\n"
     ]
    }
   ],
   "source": [
    "data = pd.read_csv('../Python-ILP/fifa19.csv')\n",
    "print(data.shape)"
   ]
  },
  {
   "cell_type": "code",
   "execution_count": 130,
   "metadata": {},
   "outputs": [],
   "source": [
    "using_columns = [\n",
    "    'Name', \n",
    "    'Age', \n",
    "    'Photo', \n",
    "    'Nationality', \n",
    "    'Overall', \n",
    "    'Potential', \n",
    "    'Club',\n",
    "    'Position',\n",
    "    'Value', \n",
    "    'Wage',     \n",
    "    'Release Clause'\n",
    "]\n",
    "dataset = pd.DataFrame(data, columns = using_columns)"
   ]
  },
  {
   "cell_type": "code",
   "execution_count": 131,
   "metadata": {},
   "outputs": [
    {
     "data": {
      "text/html": [
       "<div>\n",
       "<style scoped>\n",
       "    .dataframe tbody tr th:only-of-type {\n",
       "        vertical-align: middle;\n",
       "    }\n",
       "\n",
       "    .dataframe tbody tr th {\n",
       "        vertical-align: top;\n",
       "    }\n",
       "\n",
       "    .dataframe thead th {\n",
       "        text-align: right;\n",
       "    }\n",
       "</style>\n",
       "<table border=\"1\" class=\"dataframe\">\n",
       "  <thead>\n",
       "    <tr style=\"text-align: right;\">\n",
       "      <th></th>\n",
       "      <th>Name</th>\n",
       "      <th>Age</th>\n",
       "      <th>Photo</th>\n",
       "      <th>Nationality</th>\n",
       "      <th>Overall</th>\n",
       "      <th>Potential</th>\n",
       "      <th>Club</th>\n",
       "      <th>Position</th>\n",
       "      <th>Value</th>\n",
       "      <th>Wage</th>\n",
       "      <th>Release Clause</th>\n",
       "    </tr>\n",
       "  </thead>\n",
       "  <tbody>\n",
       "    <tr>\n",
       "      <th>0</th>\n",
       "      <td>L. Messi</td>\n",
       "      <td>31</td>\n",
       "      <td>https://cdn.sofifa.org/players/4/19/158023.png</td>\n",
       "      <td>Argentina</td>\n",
       "      <td>94</td>\n",
       "      <td>94</td>\n",
       "      <td>FC Barcelona</td>\n",
       "      <td>RF</td>\n",
       "      <td>€110.5M</td>\n",
       "      <td>€565K</td>\n",
       "      <td>€226.5M</td>\n",
       "    </tr>\n",
       "    <tr>\n",
       "      <th>1</th>\n",
       "      <td>Cristiano Ronaldo</td>\n",
       "      <td>33</td>\n",
       "      <td>https://cdn.sofifa.org/players/4/19/20801.png</td>\n",
       "      <td>Portugal</td>\n",
       "      <td>94</td>\n",
       "      <td>94</td>\n",
       "      <td>Juventus</td>\n",
       "      <td>ST</td>\n",
       "      <td>€77M</td>\n",
       "      <td>€405K</td>\n",
       "      <td>€127.1M</td>\n",
       "    </tr>\n",
       "    <tr>\n",
       "      <th>2</th>\n",
       "      <td>Neymar Jr</td>\n",
       "      <td>26</td>\n",
       "      <td>https://cdn.sofifa.org/players/4/19/190871.png</td>\n",
       "      <td>Brazil</td>\n",
       "      <td>92</td>\n",
       "      <td>93</td>\n",
       "      <td>Paris Saint-Germain</td>\n",
       "      <td>LW</td>\n",
       "      <td>€118.5M</td>\n",
       "      <td>€290K</td>\n",
       "      <td>€228.1M</td>\n",
       "    </tr>\n",
       "    <tr>\n",
       "      <th>3</th>\n",
       "      <td>De Gea</td>\n",
       "      <td>27</td>\n",
       "      <td>https://cdn.sofifa.org/players/4/19/193080.png</td>\n",
       "      <td>Spain</td>\n",
       "      <td>91</td>\n",
       "      <td>93</td>\n",
       "      <td>Manchester United</td>\n",
       "      <td>GK</td>\n",
       "      <td>€72M</td>\n",
       "      <td>€260K</td>\n",
       "      <td>€138.6M</td>\n",
       "    </tr>\n",
       "    <tr>\n",
       "      <th>4</th>\n",
       "      <td>K. De Bruyne</td>\n",
       "      <td>27</td>\n",
       "      <td>https://cdn.sofifa.org/players/4/19/192985.png</td>\n",
       "      <td>Belgium</td>\n",
       "      <td>91</td>\n",
       "      <td>92</td>\n",
       "      <td>Manchester City</td>\n",
       "      <td>RCM</td>\n",
       "      <td>€102M</td>\n",
       "      <td>€355K</td>\n",
       "      <td>€196.4M</td>\n",
       "    </tr>\n",
       "  </tbody>\n",
       "</table>\n",
       "</div>"
      ],
      "text/plain": [
       "                Name  Age                                           Photo  \\\n",
       "0           L. Messi   31  https://cdn.sofifa.org/players/4/19/158023.png   \n",
       "1  Cristiano Ronaldo   33   https://cdn.sofifa.org/players/4/19/20801.png   \n",
       "2          Neymar Jr   26  https://cdn.sofifa.org/players/4/19/190871.png   \n",
       "3             De Gea   27  https://cdn.sofifa.org/players/4/19/193080.png   \n",
       "4       K. De Bruyne   27  https://cdn.sofifa.org/players/4/19/192985.png   \n",
       "\n",
       "  Nationality  Overall  Potential                 Club Position    Value  \\\n",
       "0   Argentina       94         94         FC Barcelona       RF  €110.5M   \n",
       "1    Portugal       94         94             Juventus       ST     €77M   \n",
       "2      Brazil       92         93  Paris Saint-Germain       LW  €118.5M   \n",
       "3       Spain       91         93    Manchester United       GK     €72M   \n",
       "4     Belgium       91         92      Manchester City      RCM    €102M   \n",
       "\n",
       "    Wage Release Clause  \n",
       "0  €565K        €226.5M  \n",
       "1  €405K        €127.1M  \n",
       "2  €290K        €228.1M  \n",
       "3  €260K        €138.6M  \n",
       "4  €355K        €196.4M  "
      ]
     },
     "execution_count": 131,
     "metadata": {},
     "output_type": "execute_result"
    }
   ],
   "source": [
    "dataset.head()"
   ]
  },
  {
   "cell_type": "code",
   "execution_count": 132,
   "metadata": {},
   "outputs": [
    {
     "data": {
      "text/plain": [
       "Name                 0\n",
       "Age                  0\n",
       "Photo                0\n",
       "Nationality          0\n",
       "Overall              0\n",
       "Potential            0\n",
       "Club               241\n",
       "Position            60\n",
       "Value                0\n",
       "Wage                 0\n",
       "Release Clause    1564\n",
       "dtype: int64"
      ]
     },
     "execution_count": 132,
     "metadata": {},
     "output_type": "execute_result"
    }
   ],
   "source": [
    "#Check null\n",
    "dataset.isnull().sum()"
   ]
  },
  {
   "cell_type": "code",
   "execution_count": 133,
   "metadata": {},
   "outputs": [],
   "source": [
    "dataset['Club'].fillna('Null', inplace = True)\n",
    "dataset['Release Clause'].fillna('€0K', inplace = True)"
   ]
  },
  {
   "cell_type": "code",
   "execution_count": 134,
   "metadata": {},
   "outputs": [
    {
     "data": {
      "text/html": [
       "<div>\n",
       "<style scoped>\n",
       "    .dataframe tbody tr th:only-of-type {\n",
       "        vertical-align: middle;\n",
       "    }\n",
       "\n",
       "    .dataframe tbody tr th {\n",
       "        vertical-align: top;\n",
       "    }\n",
       "\n",
       "    .dataframe thead th {\n",
       "        text-align: right;\n",
       "    }\n",
       "</style>\n",
       "<table border=\"1\" class=\"dataframe\">\n",
       "  <thead>\n",
       "    <tr style=\"text-align: right;\">\n",
       "      <th></th>\n",
       "      <th>Age</th>\n",
       "      <th>Overall</th>\n",
       "      <th>Potential</th>\n",
       "    </tr>\n",
       "  </thead>\n",
       "  <tbody>\n",
       "    <tr>\n",
       "      <th>count</th>\n",
       "      <td>18207.000000</td>\n",
       "      <td>18207.000000</td>\n",
       "      <td>18207.000000</td>\n",
       "    </tr>\n",
       "    <tr>\n",
       "      <th>mean</th>\n",
       "      <td>25.122206</td>\n",
       "      <td>66.238699</td>\n",
       "      <td>71.307299</td>\n",
       "    </tr>\n",
       "    <tr>\n",
       "      <th>std</th>\n",
       "      <td>4.669943</td>\n",
       "      <td>6.908930</td>\n",
       "      <td>6.136496</td>\n",
       "    </tr>\n",
       "    <tr>\n",
       "      <th>min</th>\n",
       "      <td>16.000000</td>\n",
       "      <td>46.000000</td>\n",
       "      <td>48.000000</td>\n",
       "    </tr>\n",
       "    <tr>\n",
       "      <th>25%</th>\n",
       "      <td>21.000000</td>\n",
       "      <td>62.000000</td>\n",
       "      <td>67.000000</td>\n",
       "    </tr>\n",
       "    <tr>\n",
       "      <th>50%</th>\n",
       "      <td>25.000000</td>\n",
       "      <td>66.000000</td>\n",
       "      <td>71.000000</td>\n",
       "    </tr>\n",
       "    <tr>\n",
       "      <th>75%</th>\n",
       "      <td>28.000000</td>\n",
       "      <td>71.000000</td>\n",
       "      <td>75.000000</td>\n",
       "    </tr>\n",
       "    <tr>\n",
       "      <th>max</th>\n",
       "      <td>45.000000</td>\n",
       "      <td>94.000000</td>\n",
       "      <td>95.000000</td>\n",
       "    </tr>\n",
       "  </tbody>\n",
       "</table>\n",
       "</div>"
      ],
      "text/plain": [
       "                Age       Overall     Potential\n",
       "count  18207.000000  18207.000000  18207.000000\n",
       "mean      25.122206     66.238699     71.307299\n",
       "std        4.669943      6.908930      6.136496\n",
       "min       16.000000     46.000000     48.000000\n",
       "25%       21.000000     62.000000     67.000000\n",
       "50%       25.000000     66.000000     71.000000\n",
       "75%       28.000000     71.000000     75.000000\n",
       "max       45.000000     94.000000     95.000000"
      ]
     },
     "execution_count": 134,
     "metadata": {},
     "output_type": "execute_result"
    }
   ],
   "source": [
    "dataset.describe()"
   ]
  },
  {
   "cell_type": "code",
   "execution_count": 135,
   "metadata": {},
   "outputs": [
    {
     "name": "stdout",
     "output_type": "stream",
     "text": [
      "Total country numbers are : 164\n",
      "England      1662\n",
      "Germany      1198\n",
      "Spain        1072\n",
      "Argentina     937\n",
      "France        914\n",
      "Name: Nationality, dtype: int64\n"
     ]
    }
   ],
   "source": [
    "#Number of countries and top 5 countries with highest number of players\n",
    "print('Total country numbers are : {0}'.format(dataset['Nationality'].nunique()))\n",
    "print(dataset['Nationality'].value_counts().head(5))"
   ]
  },
  {
   "cell_type": "code",
   "execution_count": 136,
   "metadata": {},
   "outputs": [
    {
     "name": "stdout",
     "output_type": "stream",
     "text": [
      "Maximum Potential : K. Mbappé with 95\n",
      "Maximum Overall Perforamnce : L. Messi with 94\n"
     ]
    }
   ],
   "source": [
    "###### Top 5 players who have maximum potential and overall\n",
    "print('Maximum Potential : '+str(dataset.loc[dataset['Potential'].idxmax()][0]) + ' with '+ str(dataset.loc[dataset['Potential'].idxmax()][5]))\n",
    "print('Maximum Overall Perforamnce : '+str(dataset.loc[dataset['Overall'].idxmax()][0]) + ' with ' + str(dataset.loc[dataset['Overall'].idxmax()][4]))"
   ]
  },
  {
   "cell_type": "code",
   "execution_count": 137,
   "metadata": {},
   "outputs": [],
   "source": [
    "#Convert M, K values to numbers\n",
    "def to_num(value):\n",
    "    if value[-1] == 'M':\n",
    "        return float(value[1:-1])*1000000\n",
    "    elif value[-1] == 'K':\n",
    "        return float(value[1:-1])*1000\n",
    "    else:\n",
    "        return float(value[1:])\n",
    "    \n",
    "dataset['Value'] = dataset['Value'].apply(lambda x: to_num(x))\n",
    "dataset['Wage'] = dataset['Wage'].apply(lambda x: to_num(x))\n",
    "dataset['Release Clause'] = dataset['Release Clause'].apply(lambda x: to_num(x))"
   ]
  },
  {
   "cell_type": "code",
   "execution_count": 138,
   "metadata": {},
   "outputs": [
    {
     "data": {
      "text/html": [
       "<div>\n",
       "<style scoped>\n",
       "    .dataframe tbody tr th:only-of-type {\n",
       "        vertical-align: middle;\n",
       "    }\n",
       "\n",
       "    .dataframe tbody tr th {\n",
       "        vertical-align: top;\n",
       "    }\n",
       "\n",
       "    .dataframe thead th {\n",
       "        text-align: right;\n",
       "    }\n",
       "</style>\n",
       "<table border=\"1\" class=\"dataframe\">\n",
       "  <thead>\n",
       "    <tr style=\"text-align: right;\">\n",
       "      <th></th>\n",
       "      <th>Name</th>\n",
       "      <th>Age</th>\n",
       "      <th>Photo</th>\n",
       "      <th>Nationality</th>\n",
       "      <th>Overall</th>\n",
       "      <th>Potential</th>\n",
       "      <th>Club</th>\n",
       "      <th>Position</th>\n",
       "      <th>Value</th>\n",
       "      <th>Wage</th>\n",
       "      <th>Release Clause</th>\n",
       "    </tr>\n",
       "  </thead>\n",
       "  <tbody>\n",
       "    <tr>\n",
       "      <th>0</th>\n",
       "      <td>L. Messi</td>\n",
       "      <td>31</td>\n",
       "      <td>https://cdn.sofifa.org/players/4/19/158023.png</td>\n",
       "      <td>Argentina</td>\n",
       "      <td>94</td>\n",
       "      <td>94</td>\n",
       "      <td>FC Barcelona</td>\n",
       "      <td>RF</td>\n",
       "      <td>110500000.0</td>\n",
       "      <td>565000.0</td>\n",
       "      <td>226500000.0</td>\n",
       "    </tr>\n",
       "    <tr>\n",
       "      <th>1</th>\n",
       "      <td>Cristiano Ronaldo</td>\n",
       "      <td>33</td>\n",
       "      <td>https://cdn.sofifa.org/players/4/19/20801.png</td>\n",
       "      <td>Portugal</td>\n",
       "      <td>94</td>\n",
       "      <td>94</td>\n",
       "      <td>Juventus</td>\n",
       "      <td>ST</td>\n",
       "      <td>77000000.0</td>\n",
       "      <td>405000.0</td>\n",
       "      <td>127100000.0</td>\n",
       "    </tr>\n",
       "    <tr>\n",
       "      <th>2</th>\n",
       "      <td>Neymar Jr</td>\n",
       "      <td>26</td>\n",
       "      <td>https://cdn.sofifa.org/players/4/19/190871.png</td>\n",
       "      <td>Brazil</td>\n",
       "      <td>92</td>\n",
       "      <td>93</td>\n",
       "      <td>Paris Saint-Germain</td>\n",
       "      <td>LW</td>\n",
       "      <td>118500000.0</td>\n",
       "      <td>290000.0</td>\n",
       "      <td>228100000.0</td>\n",
       "    </tr>\n",
       "    <tr>\n",
       "      <th>3</th>\n",
       "      <td>De Gea</td>\n",
       "      <td>27</td>\n",
       "      <td>https://cdn.sofifa.org/players/4/19/193080.png</td>\n",
       "      <td>Spain</td>\n",
       "      <td>91</td>\n",
       "      <td>93</td>\n",
       "      <td>Manchester United</td>\n",
       "      <td>GK</td>\n",
       "      <td>72000000.0</td>\n",
       "      <td>260000.0</td>\n",
       "      <td>138600000.0</td>\n",
       "    </tr>\n",
       "    <tr>\n",
       "      <th>4</th>\n",
       "      <td>K. De Bruyne</td>\n",
       "      <td>27</td>\n",
       "      <td>https://cdn.sofifa.org/players/4/19/192985.png</td>\n",
       "      <td>Belgium</td>\n",
       "      <td>91</td>\n",
       "      <td>92</td>\n",
       "      <td>Manchester City</td>\n",
       "      <td>RCM</td>\n",
       "      <td>102000000.0</td>\n",
       "      <td>355000.0</td>\n",
       "      <td>196400000.0</td>\n",
       "    </tr>\n",
       "  </tbody>\n",
       "</table>\n",
       "</div>"
      ],
      "text/plain": [
       "                Name  Age                                           Photo  \\\n",
       "0           L. Messi   31  https://cdn.sofifa.org/players/4/19/158023.png   \n",
       "1  Cristiano Ronaldo   33   https://cdn.sofifa.org/players/4/19/20801.png   \n",
       "2          Neymar Jr   26  https://cdn.sofifa.org/players/4/19/190871.png   \n",
       "3             De Gea   27  https://cdn.sofifa.org/players/4/19/193080.png   \n",
       "4       K. De Bruyne   27  https://cdn.sofifa.org/players/4/19/192985.png   \n",
       "\n",
       "  Nationality  Overall  Potential                 Club Position        Value  \\\n",
       "0   Argentina       94         94         FC Barcelona       RF  110500000.0   \n",
       "1    Portugal       94         94             Juventus       ST   77000000.0   \n",
       "2      Brazil       92         93  Paris Saint-Germain       LW  118500000.0   \n",
       "3       Spain       91         93    Manchester United       GK   72000000.0   \n",
       "4     Belgium       91         92      Manchester City      RCM  102000000.0   \n",
       "\n",
       "       Wage  Release Clause  \n",
       "0  565000.0     226500000.0  \n",
       "1  405000.0     127100000.0  \n",
       "2  290000.0     228100000.0  \n",
       "3  260000.0     138600000.0  \n",
       "4  355000.0     196400000.0  "
      ]
     },
     "execution_count": 138,
     "metadata": {},
     "output_type": "execute_result"
    }
   ],
   "source": [
    "dataset.head()"
   ]
  },
  {
   "cell_type": "code",
   "execution_count": 143,
   "metadata": {},
   "outputs": [],
   "source": [
    "players_value = dataset.sort_values(\"Value\", ascending=False).head(20).reset_index()[[\"Name\", \"Overall\", \"Potential\", \"Value\", \"Age\"]]"
   ]
  },
  {
   "cell_type": "code",
   "execution_count": 166,
   "metadata": {},
   "outputs": [
    {
     "data": {
      "image/png": "[encoded data removed]",
      "text/plain": [
       "<Figure size 1152x576 with 1 Axes>"
      ]
     },
     "metadata": {},
     "output_type": "display_data"
    }
   ],
   "source": [
    "plt.figure(figsize=(16,8))\n",
    "sns.set_style(\"dark\")\n",
    "plt.title('Grouping players by Overall', fontsize=20, fontweight='bold', y=1,)\n",
    "plt.xlabel('Overall of players', fontsize=15)\n",
    "plt.ylabel('Number of players', fontsize=15)\n",
    "sns.countplot(x=\"Overall\", data=dataset, palette=\"hls\");\n",
    "plt.show()"
   ]
  },
  {
   "cell_type": "code",
   "execution_count": 162,
   "metadata": {},
   "outputs": [],
   "source": [
    "# Selecting players with age smaller then 40 \n",
    "dataset40 = dataset.loc[dataset['Age'] <= 40]\n",
    "# Selecting unique Age from DataFrame\n",
    "age = dataset40.sort_values(\"Age\")['Age'].unique()\n",
    "# Selecting mean Overall from DataFrame\n",
    "overall = dataset40.groupby(\"Age\")[\"Overall\"].mean().values\n",
    "# Selecting mean Overall from DataFrame\n",
    "potential = dataset40.groupby(\"Age\")[\"Potential\"].mean().values"
   ]
  },
  {
   "cell_type": "code",
   "execution_count": 164,
   "metadata": {},
   "outputs": [
    {
     "data": {
      "text/plain": [
       "<Figure size 432x288 with 0 Axes>"
      ]
     },
     "metadata": {},
     "output_type": "display_data"
    },
    {
     "data": {
      "image/png": "[encoded data removed]",
      "text/plain": [
       "<Figure size 1152x576 with 1 Axes>"
      ]
     },
     "metadata": {},
     "output_type": "display_data"
    }
   ],
   "source": [
    "plt.figure()\n",
    "plt.figure(figsize=(16,8))\n",
    "plt.title('Age vs Mean Overall/Potential Rating', fontsize=20, fontweight='bold')\n",
    "plt.xlabel('Player Age', fontsize=15)\n",
    "plt.ylabel('Player Overall', fontsize=15)\n",
    "sns.set_style(\"dark\")\n",
    "plt.plot(age, overall, label=\"Overall\")\n",
    "plt.plot(age, potential, label=\"Potential\")\n",
    "plt.legend(loc=4, prop={'size': 15}, frameon=True,shadow=True, facecolor=\"white\", edgecolor=\"black\")\n",
    "plt.show()"
   ]
  },
  {
   "cell_type": "code",
   "execution_count": null,
   "metadata": {},
   "outputs": [],
   "source": []
  }
 ],
 "metadata": {
  "kernelspec": {
   "display_name": "Python 3",
   "language": "python",
   "name": "python3"
  },
  "language_info": {
   "codemirror_mode": {
    "name": "ipython",
    "version": 3
   },
   "file_extension": ".py",
   "mimetype": "text/x-python",
   "name": "python",
   "nbconvert_exporter": "python",
   "pygments_lexer": "ipython3",
   "version": "3.7.3"
  }
 },
 "nbformat": 4,
 "nbformat_minor": 2
}
