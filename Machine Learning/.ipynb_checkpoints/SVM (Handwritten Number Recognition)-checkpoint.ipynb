{
 "cells": [
  {
   "cell_type": "code",
   "execution_count": 13,
   "metadata": {},
   "outputs": [
    {
     "data": {
      "text/plain": [
       "'\\nSupport Vector Machine\\nAccording to the distribution of training samples, the best one of all possible linear classifiers is searched.\\nSelect the most effective small number of training samples from high dimensional data.\\nSave data memory and improve prediction performance\\nBut will pay more CPU and computing time\\n'"
      ]
     },
     "execution_count": 13,
     "metadata": {},
     "output_type": "execute_result"
    }
   ],
   "source": [
    "from sklearn.datasets import load_digits\n",
    "from sklearn.model_selection import train_test_split\n",
    "from sklearn.preprocessing import StandardScaler\n",
    "from sklearn.svm import LinearSVC\n",
    "from sklearn.metrics import classification_report\n",
    "\n",
    "'''\n",
    "Support Vector Machine\n",
    "According to the distribution of training samples, the best one of all possible linear classifiers is searched.\n",
    "Select the most effective small number of training samples from high dimensional data.\n",
    "Save data memory and improve prediction performance\n",
    "But will pay more CPU and computing time\n",
    "'''"
   ]
  },
  {
   "cell_type": "code",
   "execution_count": 14,
   "metadata": {},
   "outputs": [
    {
     "name": "stdout",
     "output_type": "stream",
     "text": [
      "(1797, 64)\n"
     ]
    }
   ],
   "source": [
    "# Digital image data of handwritten numerals are obtained by data loader and stored in digits variable\n",
    "digits = load_digits()\n",
    "# 查看数据的特征维度和规模\n",
    "print(digits.data.shape)\n",
    "\n",
    "\n",
    "#2 Random sampling 25% data for testing 75% data for training\n",
    "\n",
    "x_train, x_test, y_train, y_test = train_test_split(digits.data,\n",
    "                                                    digits.target,\n",
    "                                                    test_size=0.25,\n",
    "                                                    random_state=33)"
   ]
  },
  {
   "cell_type": "code",
   "execution_count": 15,
   "metadata": {},
   "outputs": [
    {
     "name": "stderr",
     "output_type": "stream",
     "text": [
      "//anaconda3/lib/python3.7/site-packages/sklearn/svm/base.py:929: ConvergenceWarning: Liblinear failed to converge, increase the number of iterations.\n",
      "  \"the number of iterations.\", ConvergenceWarning)\n"
     ]
    }
   ],
   "source": [
    "#3 Recognition of Digital Images Using Support Vector Machine Classification Model\n",
    "\n",
    "# 对训练数据和测试数据进行标准化 Data standardization\n",
    "ss = StandardScaler()\n",
    "x_train = ss.fit_transform(x_train)\n",
    "x_test = ss.fit_transform(x_test)\n",
    "\n",
    "# 初始化线性假设的支持向量机分类器 Initialization\n",
    "lsvc = LinearSVC() \n",
    "# 进行训练 Training\n",
    "lsvc.fit(x_train, y_train)\n",
    "# 利用训练好的模型对测试集合进行预测 测试结果存储在y_predict中 \n",
    "# Prediction results for test sets are stored in y_predict\n",
    "y_predict = lsvc.predict(x_test)"
   ]
  },
  {
   "cell_type": "code",
   "execution_count": 16,
   "metadata": {},
   "outputs": [
    {
     "name": "stdout",
     "output_type": "stream",
     "text": [
      "Accuracy： 0.9488888888888889\n",
      "Other indicators：\n",
      "               precision    recall  f1-score   support\n",
      "\n",
      "           0       0.92      0.97      0.94        35\n",
      "           1       0.95      0.98      0.96        54\n",
      "           2       0.98      1.00      0.99        44\n",
      "           3       0.93      0.93      0.93        46\n",
      "           4       0.97      1.00      0.99        35\n",
      "           5       0.94      0.94      0.94        48\n",
      "           6       0.96      0.98      0.97        51\n",
      "           7       0.90      1.00      0.95        35\n",
      "           8       0.98      0.83      0.90        58\n",
      "           9       0.95      0.91      0.93        44\n",
      "\n",
      "    accuracy                           0.95       450\n",
      "   macro avg       0.95      0.95      0.95       450\n",
      "weighted avg       0.95      0.95      0.95       450\n",
      "\n"
     ]
    }
   ],
   "source": [
    "#4 支持向量机分类器 模型能力评估 Assessment of Support Vector Machine Classifier Model\n",
    "\n",
    "print(\"Accuracy：\", lsvc.score(x_test, y_test))\n",
    "print(\"Other indicators：\\n\", classification_report(y_test, y_predict, target_names=digits.target_names.astype(str)))"
   ]
  }
 ],
 "metadata": {
  "kernelspec": {
   "display_name": "Python 3",
   "language": "python",
   "name": "python3"
  },
  "language_info": {
   "codemirror_mode": {
    "name": "ipython",
    "version": 3
   },
   "file_extension": ".py",
   "mimetype": "text/x-python",
   "name": "python",
   "nbconvert_exporter": "python",
   "pygments_lexer": "ipython3",
   "version": "3.7.3"
  }
 },
 "nbformat": 4,
 "nbformat_minor": 2
}
