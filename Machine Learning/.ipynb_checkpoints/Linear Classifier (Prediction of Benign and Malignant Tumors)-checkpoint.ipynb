{
 "cells": [
  {
   "cell_type": "code",
   "execution_count": 1,
   "metadata": {},
   "outputs": [
    {
     "data": {
      "text/plain": [
       "'\\nLinear classifier is a basic and common Machine Learning Model\\nRestricted by Data Features and Classification Objects\\nLogistic regression takes a long time to calculate, and the performance of the model is slightly better.\\nThe calculation time of Stochastic Gradient Descent classifier is short and the performance of the \\nmodel is slightly low.\\n'"
      ]
     },
     "execution_count": 1,
     "metadata": {},
     "output_type": "execute_result"
    }
   ],
   "source": [
    "import numpy as np\n",
    "import pandas as pd\n",
    "from sklearn.model_selection import train_test_split\n",
    "from sklearn.preprocessing import StandardScaler\n",
    "from sklearn.linear_model import LogisticRegression, SGDClassifier\n",
    "from sklearn.metrics import classification_report\n",
    "import matplotlib.pyplot as plt\n",
    "\n",
    "\"\"\"\n",
    "Linear classifier is a basic and common Machine Learning Model\n",
    "Restricted by Data Features and Classification Objects\n",
    "Logistic regression takes a long time to calculate, and the performance of the model is slightly better.\n",
    "The calculation time of Stochastic Gradient Descent classifier is short and the performance of the \n",
    "model is slightly low.\n",
    "\"\"\""
   ]
  },
  {
   "cell_type": "code",
   "execution_count": 2,
   "metadata": {},
   "outputs": [],
   "source": [
    "# 创建特征列表 Create the list of column names\n",
    "column_names = ['Sample code number', 'Clump Thickness', 'Uniformity of Cell Size',\n",
    "                'Uniformity of Cell Shape', 'Marginal Adhesion', 'Single Epithelial Cell size',\n",
    "                'Bare Nuclei', 'Bland Chromatin', 'Normal Nucleoli', 'Mitoses', 'Class']"
   ]
  },
  {
   "cell_type": "code",
   "execution_count": 6,
   "metadata": {},
   "outputs": [],
   "source": [
    "data = pd.read_csv('./Data/breast/breast-cancer-wisconsin.data', names=column_names)"
   ]
  },
  {
   "cell_type": "code",
   "execution_count": 6,
   "metadata": {},
   "outputs": [
    {
     "name": "stdout",
     "output_type": "stream",
     "text": [
      "(683, 11)\n"
     ]
    }
   ],
   "source": [
    "# 将?替换为标准缺失值表示 Replace '?' With missing data representation (np.nan)\n",
    "data = data.replace(to_replace='?', value=np.nan)\n",
    "# 丢失带有缺失值的数据 只要有一个维度有缺失就丢弃 Return a filtered version of the data, drop data which has missing value\n",
    "data = data.dropna(how='any')\n",
    "# 输出data数据的数量和维度 \n",
    "print(data.shape)"
   ]
  },
  {
   "cell_type": "code",
   "execution_count": 7,
   "metadata": {},
   "outputs": [],
   "source": [
    "# 随机采样25%数据用于测试 75%数据用于训练 Random sampling 25% data for testing 75% data for training\n",
    "x_train, x_test, y_train, y_test = train_test_split(data[column_names[1:10]],\n",
    "                                                    data[column_names[10]],\n",
    "                                                    test_size=0.25,\n",
    "                                                    random_state=33)"
   ]
  },
  {
   "cell_type": "code",
   "execution_count": 8,
   "metadata": {},
   "outputs": [
    {
     "name": "stdout",
     "output_type": "stream",
     "text": [
      "2    344\n",
      "4    168\n",
      "Name: Class, dtype: int64\n",
      "2    100\n",
      "4     71\n",
      "Name: Class, dtype: int64\n"
     ]
    }
   ],
   "source": [
    "# Check the number and type distribution of training samples and test samples\n",
    "print(y_train.value_counts())\n",
    "print(y_test.value_counts())"
   ]
  },
  {
   "cell_type": "code",
   "execution_count": 9,
   "metadata": {},
   "outputs": [],
   "source": [
    "# 数据标准化，保证每个维度特征的方差为1 均值为0 预测结果不会被某些维度过大的特征值主导 \n",
    "#Data standardization ensures that the variance of each dimension feature is 0 and the predicted results are not affected by some excessive eigenvalues.\n",
    "ss = StandardScaler()\n",
    "x_train = ss.fit_transform(x_train)     # 对x_train进行标准化 Standardization of x_train\n",
    "x_test = ss.transform(x_test)       # 用与x_train相同的规则对x_test进行标准化 Standardization of x_test with the same rules as x_train"
   ]
  },
  {
   "cell_type": "code",
   "execution_count": 10,
   "metadata": {},
   "outputs": [],
   "source": [
    "lr = LogisticRegression()   # 初始化逻辑斯蒂回归模型 Initialization\n",
    "sgdc = SGDClassifier()  # 初始化随机参数估计模型 Initialization"
   ]
  },
  {
   "cell_type": "code",
   "execution_count": 11,
   "metadata": {},
   "outputs": [
    {
     "name": "stderr",
     "output_type": "stream",
     "text": [
      "//anaconda3/lib/python3.7/site-packages/sklearn/linear_model/logistic.py:432: FutureWarning: Default solver will be changed to 'lbfgs' in 0.22. Specify a solver to silence this warning.\n",
      "  FutureWarning)\n"
     ]
    }
   ],
   "source": [
    "# 使用 逻辑回归 在训练集合上训练 Using Logical Regression to train training sets\n",
    "lr.fit(x_train, y_train)\n",
    "# 训练好后 Prediction results for test sets are stored in lr_y_prediction\n",
    "lr_y_predict = lr.predict(x_test)\n",
    "\n",
    "# 使用 随机参数估计 在训练集合上训练 Using SGD to train training sets\n",
    "sgdc.fit(x_train, y_train)\n",
    "# 训练好后 Prediction results for test sets are stored in sgdc_y_predict\n",
    "sgdc_y_predict = sgdc.predict(x_test)"
   ]
  },
  {
   "cell_type": "code",
   "execution_count": 12,
   "metadata": {},
   "outputs": [
    {
     "name": "stdout",
     "output_type": "stream",
     "text": [
      "Accuracy of Logical Regression model： 0.9883040935672515\n",
      "Other indicators of Logical Regression model：\n",
      "               precision    recall  f1-score   support\n",
      "\n",
      "      Benign       0.99      0.99      0.99       100\n",
      "   Malignant       0.99      0.99      0.99        71\n",
      "\n",
      "    accuracy                           0.99       171\n",
      "   macro avg       0.99      0.99      0.99       171\n",
      "weighted avg       0.99      0.99      0.99       171\n",
      "\n",
      "Accuracy of SGD Classifier model： 0.9883040935672515\n",
      "Other indicators of SGD Classifier model:\n",
      "               precision    recall  f1-score   support\n",
      "\n",
      "      Benign       1.00      0.98      0.99       100\n",
      "   Malignant       0.97      1.00      0.99        71\n",
      "\n",
      "    accuracy                           0.99       171\n",
      "   macro avg       0.99      0.99      0.99       171\n",
      "weighted avg       0.99      0.99      0.99       171\n",
      "\n"
     ]
    }
   ],
   "source": [
    "# 逻辑回归模型自带评分函数score获得模型在测试集合上的准确率 check the score of accuracy \n",
    "print(\"Accuracy of Logical Regression model：\", lr.score(x_test, y_test))\n",
    "# 逻辑斯蒂回归的其他指标 \n",
    "print(\"Other indicators of Logical Regression model：\\n\", classification_report(y_test, lr_y_predict, target_names=[\"Benign\", \"Malignant\"]))\n",
    "\n",
    "# 随机参数估计的性能分析 \n",
    "print(\"Accuracy of SGD Classifier model：\", sgdc.score(x_test, y_test))\n",
    "# 随机参数估计的其他指标\n",
    "print(\"Other indicators of SGD Classifier model:\\n\", classification_report(y_test, sgdc_y_predict, target_names=[\"Benign\", \"Malignant\"]))"
   ]
  },
  {
   "cell_type": "code",
   "execution_count": null,
   "metadata": {},
   "outputs": [],
   "source": []
  }
 ],
 "metadata": {
  "kernelspec": {
   "display_name": "Python 3",
   "language": "python",
   "name": "python3"
  },
  "language_info": {
   "codemirror_mode": {
    "name": "ipython",
    "version": 3
   },
   "file_extension": ".py",
   "mimetype": "text/x-python",
   "name": "python",
   "nbconvert_exporter": "python",
   "pygments_lexer": "ipython3",
   "version": "3.7.3"
  }
 },
 "nbformat": 4,
 "nbformat_minor": 2
}
