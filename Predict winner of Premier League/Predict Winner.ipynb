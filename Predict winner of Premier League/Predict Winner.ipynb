{
 "cells": [
  {
   "cell_type": "code",
   "execution_count": 457,
   "metadata": {},
   "outputs": [
    {
     "name": "stdout",
     "output_type": "stream",
     "text": [
      "['season-1819_csv.csv', 'Predict Winner.ipynb', 'season-1617_csv.csv', 'season-1718_csv.csv', 'season-1516_csv.csv', '.ipynb_checkpoints']\n"
     ]
    }
   ],
   "source": [
    "import numpy as np\n",
    "import pandas as pd \n",
    "\n",
    "import matplotlib.pyplot as plt\n",
    "import seaborn as sns\n",
    "%matplotlib inline\n",
    "from scipy.stats import poisson,skellam\n",
    "\n",
    "import os\n",
    "print(os.listdir(\"../Predict winner of Premier League\"))"
   ]
  },
  {
   "cell_type": "code",
   "execution_count": 467,
   "metadata": {},
   "outputs": [
    {
     "name": "stdout",
     "output_type": "stream",
     "text": [
      "(380, 65)\n"
     ]
    }
   ],
   "source": [
    "data19 = pd.read_csv('../Predict winner of Premier League/season-1819_csv.csv')\n",
    "data18 = pd.read_csv('../Predict winner of Premier League/season-1718_csv.csv')\n",
    "print(data18.shape)"
   ]
  },
  {
   "cell_type": "code",
   "execution_count": 468,
   "metadata": {},
   "outputs": [],
   "source": [
    "using_columns = [\n",
    "    'Date', \n",
    "    'HomeTeam', \n",
    "    'AwayTeam', \n",
    "    'FTHG',\n",
    "    'FTAG',\n",
    "    'FTR',\n",
    "    'HScore',\n",
    "    'AScore'\n",
    "]\n",
    "data18 = pd.DataFrame(data18, columns = using_columns)\n",
    "data18['HScore'] = data18['HScore'].fillna(0)\n",
    "data18['AScore'] = data18['AScore'].fillna(0)"
   ]
  },
  {
   "cell_type": "code",
   "execution_count": 469,
   "metadata": {},
   "outputs": [],
   "source": [
    "def to_num(value):\n",
    "    if value[0] == 'H':\n",
    "        return 1\n",
    "    elif value[0] == 'A':\n",
    "        return -1\n",
    "    else:\n",
    "        return 0\n",
    "    \n",
    "data18['FTR'] = data18['FTR'].apply(lambda x: to_num(x))"
   ]
  },
  {
   "cell_type": "code",
   "execution_count": 474,
   "metadata": {},
   "outputs": [
    {
     "data": {
      "text/plain": [
       "0.2538008836380457"
      ]
     },
     "execution_count": 474,
     "metadata": {},
     "output_type": "execute_result"
    }
   ],
   "source": [
    "'''\n",
    "for i in range(0, len(data18)):\n",
    "    if data18.iloc[i]['FTR'] == 1:\n",
    "        data18.loc[i, 'HScore'] = 3\n",
    "'''\n",
    "# probability of draw between home and away team\n",
    "skellam.pmf(0.0,  data18.mean()[0],  data18.mean()[1])"
   ]
  },
  {
   "cell_type": "code",
   "execution_count": 475,
   "metadata": {},
   "outputs": [
    {
     "data": {
      "text/plain": [
       "0.22886603504134242"
      ]
     },
     "execution_count": 475,
     "metadata": {},
     "output_type": "execute_result"
    }
   ],
   "source": [
    "# probability of home team winning by one goal\n",
    "skellam.pmf(1,  data18.mean()[0],  data18.mean()[1])"
   ]
  },
  {
   "cell_type": "code",
   "execution_count": 313,
   "metadata": {},
   "outputs": [],
   "source": [
    "def hscore(df):\n",
    "    if df['FTR'] == 1:\n",
    "        return 3\n",
    "    elif df['FTR'] == 0:\n",
    "        return 1\n",
    "    else:\n",
    "        return 0\n",
    "    \n",
    "def ascore(df):\n",
    "    if df['FTR'] == -1:\n",
    "        return 3\n",
    "    elif df['FTR'] == 0:\n",
    "        return 1\n",
    "    else:\n",
    "        return 0"
   ]
  },
  {
   "cell_type": "code",
   "execution_count": 314,
   "metadata": {},
   "outputs": [],
   "source": [
    "data18['HScore']=data18.apply(lambda r:hscore(r),axis=1)\n",
    "data18['AScore']=data18.apply(lambda r:ascore(r),axis=1)"
   ]
  },
  {
   "cell_type": "code",
   "execution_count": 315,
   "metadata": {},
   "outputs": [
    {
     "data": {
      "text/html": [
       "<div>\n",
       "<style scoped>\n",
       "    .dataframe tbody tr th:only-of-type {\n",
       "        vertical-align: middle;\n",
       "    }\n",
       "\n",
       "    .dataframe tbody tr th {\n",
       "        vertical-align: top;\n",
       "    }\n",
       "\n",
       "    .dataframe thead th {\n",
       "        text-align: right;\n",
       "    }\n",
       "</style>\n",
       "<table border=\"1\" class=\"dataframe\">\n",
       "  <thead>\n",
       "    <tr style=\"text-align: right;\">\n",
       "      <th></th>\n",
       "      <th>Date</th>\n",
       "      <th>HomeTeam</th>\n",
       "      <th>AwayTeam</th>\n",
       "      <th>FTHG</th>\n",
       "      <th>FTAG</th>\n",
       "      <th>FTR</th>\n",
       "      <th>HScore</th>\n",
       "      <th>AScore</th>\n",
       "    </tr>\n",
       "  </thead>\n",
       "  <tbody>\n",
       "    <tr>\n",
       "      <th>0</th>\n",
       "      <td>11/08/17</td>\n",
       "      <td>Arsenal</td>\n",
       "      <td>Leicester</td>\n",
       "      <td>4</td>\n",
       "      <td>3</td>\n",
       "      <td>1</td>\n",
       "      <td>3</td>\n",
       "      <td>0</td>\n",
       "    </tr>\n",
       "    <tr>\n",
       "      <th>1</th>\n",
       "      <td>12/08/17</td>\n",
       "      <td>Brighton</td>\n",
       "      <td>Man City</td>\n",
       "      <td>0</td>\n",
       "      <td>2</td>\n",
       "      <td>-1</td>\n",
       "      <td>0</td>\n",
       "      <td>3</td>\n",
       "    </tr>\n",
       "    <tr>\n",
       "      <th>2</th>\n",
       "      <td>12/08/17</td>\n",
       "      <td>Chelsea</td>\n",
       "      <td>Burnley</td>\n",
       "      <td>2</td>\n",
       "      <td>3</td>\n",
       "      <td>-1</td>\n",
       "      <td>0</td>\n",
       "      <td>3</td>\n",
       "    </tr>\n",
       "    <tr>\n",
       "      <th>3</th>\n",
       "      <td>12/08/17</td>\n",
       "      <td>Crystal Palace</td>\n",
       "      <td>Huddersfield</td>\n",
       "      <td>0</td>\n",
       "      <td>3</td>\n",
       "      <td>-1</td>\n",
       "      <td>0</td>\n",
       "      <td>3</td>\n",
       "    </tr>\n",
       "    <tr>\n",
       "      <th>4</th>\n",
       "      <td>12/08/17</td>\n",
       "      <td>Everton</td>\n",
       "      <td>Stoke</td>\n",
       "      <td>1</td>\n",
       "      <td>0</td>\n",
       "      <td>1</td>\n",
       "      <td>3</td>\n",
       "      <td>0</td>\n",
       "    </tr>\n",
       "    <tr>\n",
       "      <th>5</th>\n",
       "      <td>12/08/17</td>\n",
       "      <td>Southampton</td>\n",
       "      <td>Swansea</td>\n",
       "      <td>0</td>\n",
       "      <td>0</td>\n",
       "      <td>0</td>\n",
       "      <td>1</td>\n",
       "      <td>1</td>\n",
       "    </tr>\n",
       "    <tr>\n",
       "      <th>6</th>\n",
       "      <td>12/08/17</td>\n",
       "      <td>Watford</td>\n",
       "      <td>Liverpool</td>\n",
       "      <td>3</td>\n",
       "      <td>3</td>\n",
       "      <td>0</td>\n",
       "      <td>1</td>\n",
       "      <td>1</td>\n",
       "    </tr>\n",
       "    <tr>\n",
       "      <th>7</th>\n",
       "      <td>12/08/17</td>\n",
       "      <td>West Brom</td>\n",
       "      <td>Bournemouth</td>\n",
       "      <td>1</td>\n",
       "      <td>0</td>\n",
       "      <td>1</td>\n",
       "      <td>3</td>\n",
       "      <td>0</td>\n",
       "    </tr>\n",
       "    <tr>\n",
       "      <th>8</th>\n",
       "      <td>13/08/17</td>\n",
       "      <td>Man United</td>\n",
       "      <td>West Ham</td>\n",
       "      <td>4</td>\n",
       "      <td>0</td>\n",
       "      <td>1</td>\n",
       "      <td>3</td>\n",
       "      <td>0</td>\n",
       "    </tr>\n",
       "    <tr>\n",
       "      <th>9</th>\n",
       "      <td>13/08/17</td>\n",
       "      <td>Newcastle</td>\n",
       "      <td>Tottenham</td>\n",
       "      <td>0</td>\n",
       "      <td>2</td>\n",
       "      <td>-1</td>\n",
       "      <td>0</td>\n",
       "      <td>3</td>\n",
       "    </tr>\n",
       "  </tbody>\n",
       "</table>\n",
       "</div>"
      ],
      "text/plain": [
       "       Date        HomeTeam      AwayTeam  FTHG  FTAG  FTR  HScore  AScore\n",
       "0  11/08/17         Arsenal     Leicester     4     3    1       3       0\n",
       "1  12/08/17        Brighton      Man City     0     2   -1       0       3\n",
       "2  12/08/17         Chelsea       Burnley     2     3   -1       0       3\n",
       "3  12/08/17  Crystal Palace  Huddersfield     0     3   -1       0       3\n",
       "4  12/08/17         Everton         Stoke     1     0    1       3       0\n",
       "5  12/08/17     Southampton       Swansea     0     0    0       1       1\n",
       "6  12/08/17         Watford     Liverpool     3     3    0       1       1\n",
       "7  12/08/17       West Brom   Bournemouth     1     0    1       3       0\n",
       "8  13/08/17      Man United      West Ham     4     0    1       3       0\n",
       "9  13/08/17       Newcastle     Tottenham     0     2   -1       0       3"
      ]
     },
     "execution_count": 315,
     "metadata": {},
     "output_type": "execute_result"
    }
   ],
   "source": [
    "data18.head(10)"
   ]
  },
  {
   "cell_type": "code",
   "execution_count": 441,
   "metadata": {},
   "outputs": [],
   "source": [
    "homescore = data18.groupby('HomeTeam')['HScore']\n",
    "awayscore = data18.groupby('AwayTeam')['AScore']\n",
    "\n",
    "team = data18.groupby('HomeTeam')\n",
    "team = dict(list(team))"
   ]
  },
  {
   "cell_type": "code",
   "execution_count": 438,
   "metadata": {},
   "outputs": [],
   "source": [
    "def to_list(dict):\n",
    "    a=[]\n",
    "    for i in dict.keys():\n",
    "        a.append(i)\n",
    "    return a\n",
    "\n",
    "team = to_list(team)"
   ]
  },
  {
   "cell_type": "code",
   "execution_count": 439,
   "metadata": {},
   "outputs": [],
   "source": [
    "hs = list(homescore.sum())\n",
    "ws = list(awayscore.sum())\n",
    "\n",
    "def list_add(a,b):\n",
    "    c = []\n",
    "    for i in range(len(a)):\n",
    "        c.append(a[i]+b[i])\n",
    "    return c\n",
    "\n",
    "score = list_add(hs, ws)"
   ]
  },
  {
   "cell_type": "code",
   "execution_count": 446,
   "metadata": {},
   "outputs": [
    {
     "data": {
      "text/plain": [
       "'Man City'"
      ]
     },
     "execution_count": 446,
     "metadata": {},
     "output_type": "execute_result"
    }
   ],
   "source": [
    "result = dict(zip(team,score))\n",
    "#result = sorted(result.items(), key = lambda x:x[1], reverse = True)\n",
    "max(result, key=result.get)"
   ]
  },
  {
   "cell_type": "code",
   "execution_count": null,
   "metadata": {},
   "outputs": [],
   "source": []
  }
 ],
 "metadata": {
  "kernelspec": {
   "display_name": "Python 3",
   "language": "python",
   "name": "python3"
  },
  "language_info": {
   "codemirror_mode": {
    "name": "ipython",
    "version": 3
   },
   "file_extension": ".py",
   "mimetype": "text/x-python",
   "name": "python",
   "nbconvert_exporter": "python",
   "pygments_lexer": "ipython3",
   "version": "3.7.3"
  }
 },
 "nbformat": 4,
 "nbformat_minor": 2
}
