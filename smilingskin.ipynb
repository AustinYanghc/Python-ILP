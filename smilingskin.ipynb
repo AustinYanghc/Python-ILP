{
 "cells": [
  {
   "cell_type": "code",
   "execution_count": 11,
   "metadata": {},
   "outputs": [],
   "source": [
    "from pyecharts.charts import Gauge\n",
    "import numpy as np\n",
    "from sklearn.linear_model import LinearRegression\n",
    "from sklearn.preprocessing import PolynomialFeatures\n",
    "from sklearn.linear_model import LogisticRegression\n",
    "import pickle\n",
    "import geocoder\n",
    "from forecastiopy import *\n",
    "import datetime"
   ]
  },
  {
   "cell_type": "code",
   "execution_count": 12,
   "metadata": {},
   "outputs": [],
   "source": [
    "def cata (time,skin_type,spf,cloth_type,activities):\n",
    "    \n",
    "    g = geocoder.ip('me')\n",
    "    a = g.latlng\n",
    "    fio = ForecastIO.ForecastIO('7b455df1550a041b383e0cfbc5d2fb0c', latitude=a[0], longitude=a[1])\n",
    "    current = FIOCurrently.FIOCurrently(fio)\n",
    "    uv = current.uvIndex\n",
    "    \n",
    "    uvtime = [[uv,time]]\n",
    "    \n",
    "    if spf == 15:\n",
    "        spf_par = 0.07\n",
    "    elif spf == 30:\n",
    "        spf_par = 0.03\n",
    "    elif spf == 50:\n",
    "        spf_par = 0.02\n",
    "    elif spf == 0:\n",
    "        spf_par = 1\n",
    "        \n",
    "        \n",
    "    dose_model = pickle.load(open('dose_model.sav', 'rb'))\n",
    "    logisticRegr_1 = pickle.load(open('logisticRegr_1.sav', 'rb'))    \n",
    "    \n",
    "    activities_dict = {'Picnic,Barbecue':1.05,'Grasslands':1.02,'Soil, clay':1.06,'Road trip':1.09,'City tour':1.22,\n",
    "                    'Boat deck(wood or fibreglass)': 1.09,'Open water': 1.03,'Open ocean': 1.08,'Sea surf': 1.3,\n",
    "                    'Beach sand, wet': 1.07,'Beach sand, dry': 1.18,'Snow':1.88}\n",
    "    cloth_dict = {'Lycra/Elastanes':0.25,'Plastic':0.4,'Nylon':0.7,'Polyester':0.7,'Cotton':0.7,\n",
    "                 'Polyester/Cotton':0.7}    \n",
    "        \n",
    "    poly = PolynomialFeatures(degree=2)\n",
    "    uvtime_trans = poly.fit_transform(uvtime)\n",
    "    does = dose_model.predict(uvtime_trans)*spf_par*activities_dict[activities]*cloth_dict[cloth_type]\n",
    "    if does <= 0:\n",
    "        does = 0\n",
    "    \n",
    "    dose_skin = np.array([does,skin_type])\n",
    "    poly = PolynomialFeatures(degree=2)\n",
    "    dose_skin = dose_skin.reshape(1,2)\n",
    "    dose_skin_trans = poly.fit_transform(dose_skin)\n",
    "    label = logisticRegr_1.predict(dose_skin_trans)\n",
    "            \n",
    "    return (label)"
   ]
  },
  {
   "cell_type": "code",
   "execution_count": 13,
   "metadata": {},
   "outputs": [],
   "source": [
    "def spf_recom (time,skin_type,cloth_type,activities):\n",
    "    spfli = [0,15,30,50]\n",
    "    recommendedspf = 0\n",
    "    for item in spfli:\n",
    "        recommendedspf = item\n",
    "        temp = float(cata(time,skin_type,item,cloth_type,activities))\n",
    "        if temp < 2:\n",
    "            break\n",
    "    return(recommendedspf)"
   ]
  },
  {
   "cell_type": "code",
   "execution_count": 21,
   "metadata": {},
   "outputs": [
    {
     "name": "stderr",
     "output_type": "stream",
     "text": [
      "//anaconda3/lib/python3.7/site-packages/sklearn/base.py:306: UserWarning: Trying to unpickle estimator LinearRegression from version 0.20.3 when using version 0.21.2. This might lead to breaking code or invalid results. Use at your own risk.\n",
      "  UserWarning)\n",
      "//anaconda3/lib/python3.7/site-packages/sklearn/base.py:306: UserWarning: Trying to unpickle estimator LogisticRegression from version 0.20.3 when using version 0.21.2. This might lead to breaking code or invalid results. Use at your own risk.\n",
      "  UserWarning)\n"
     ]
    },
    {
     "data": {
      "text/plain": [
       "0"
      ]
     },
     "execution_count": 21,
     "metadata": {},
     "output_type": "execute_result"
    }
   ],
   "source": [
    "spf_recom(300,1,'Polyester/Cotton','Snow')"
   ]
  },
  {
   "cell_type": "code",
   "execution_count": 16,
   "metadata": {},
   "outputs": [
    {
     "name": "stderr",
     "output_type": "stream",
     "text": [
      "//anaconda3/lib/python3.7/site-packages/sklearn/base.py:306: UserWarning: Trying to unpickle estimator LinearRegression from version 0.20.3 when using version 0.21.2. This might lead to breaking code or invalid results. Use at your own risk.\n",
      "  UserWarning)\n",
      "//anaconda3/lib/python3.7/site-packages/sklearn/base.py:306: UserWarning: Trying to unpickle estimator LogisticRegression from version 0.20.3 when using version 0.21.2. This might lead to breaking code or invalid results. Use at your own risk.\n",
      "  UserWarning)\n"
     ]
    },
    {
     "data": {
      "text/plain": [
       "array([1])"
      ]
     },
     "execution_count": 16,
     "metadata": {},
     "output_type": "execute_result"
    }
   ],
   "source": [
    "cata(10,1,50,'Polyester/Cotton','Snow')"
   ]
  },
  {
   "cell_type": "code",
   "execution_count": null,
   "metadata": {},
   "outputs": [],
   "source": []
  }
 ],
 "metadata": {
  "kernelspec": {
   "display_name": "Python 3",
   "language": "python",
   "name": "python3"
  },
  "language_info": {
   "codemirror_mode": {
    "name": "ipython",
    "version": 3
   },
   "file_extension": ".py",
   "mimetype": "text/x-python",
   "name": "python",
   "nbconvert_exporter": "python",
   "pygments_lexer": "ipython3",
   "version": "3.7.3"
  }
 },
 "nbformat": 4,
 "nbformat_minor": 2
}
