{
 "cells": [
  {
   "cell_type": "code",
   "execution_count": 89,
   "metadata": {},
   "outputs": [],
   "source": [
    "from pyecharts.charts import Gauge\n",
    "import numpy as np\n",
    "from sklearn.linear_model import LinearRegression\n",
    "from sklearn.preprocessing import PolynomialFeatures\n",
    "from sklearn.linear_model import LogisticRegression\n",
    "import pickle\n",
    "import geocoder\n",
    "from forecastiopy import *\n",
    "import datetime\n",
    "import matplotlib.pyplot as plt"
   ]
  },
  {
   "cell_type": "code",
   "execution_count": 72,
   "metadata": {},
   "outputs": [],
   "source": [
    "def cata (time,skin_type,spf,cloth_type,activities):\n",
    "    \n",
    "    g = geocoder.ip('me')\n",
    "    a = g.latlng\n",
    "    fio = ForecastIO.ForecastIO('a1b7034819c4c27fdc1eb1f586cd3d96', latitude=a[0], longitude=a[1])\n",
    "    current = FIOCurrently.FIOCurrently(fio)\n",
    "    uv = current.uvIndex\n",
    "    \n",
    "    uvtime = [[uv,time]]\n",
    "    \n",
    "    if spf == 15:\n",
    "        spf_par = 0.07\n",
    "    elif spf == 30:\n",
    "        spf_par = 0.03\n",
    "    elif spf == 50:\n",
    "        spf_par = 0.02\n",
    "    elif spf == 0:\n",
    "        spf_par = 1\n",
    "        \n",
    "        \n",
    "    dose_model = pickle.load(open('dose_model.sav', 'rb'))\n",
    "    logisticRegr_1 = pickle.load(open('logisticRegr_1.sav', 'rb'))    \n",
    "    \n",
    "    activities_dict = {'Picnic,Barbecue':1.05,'Grasslands':1.02,'Soil, clay':1.06,'Road trip':1.09,'City tour':1.22,\n",
    "                    'Boat deck(wood or fibreglass)': 1.09,'Open water': 1.03,'Open ocean': 1.08,'Sea surf': 1.3,\n",
    "                    'Beach sand, wet': 1.07,'Beach sand, dry': 1.18,'Snow':1.88}\n",
    "    cloth_dict = {'Lycra/Elastanes':0.25,'Plastic':0.4,'Nylon':0.7,'Polyester':0.7,'Cotton':0.7,\n",
    "                 'Polyester/Cotton':0.7}    \n",
    "        \n",
    "    poly = PolynomialFeatures(degree=2)\n",
    "    uvtime_train = poly.fit_transform(uvtime)\n",
    "    does = dose_model.predict(uvtime_train)*spf_par*activities_dict[activities]*cloth_dict[cloth_type]\n",
    "    if does <= 0:\n",
    "        does = 0\n",
    "    \n",
    "    dose_skin = np.array([does,skin_type])\n",
    "    poly = PolynomialFeatures(degree=2)\n",
    "    dose_skin = dose_skin.reshape(1,2)\n",
    "    dose_skin_trans = poly.fit_transform(dose_skin)\n",
    "    label = logisticRegr_1.predict(dose_skin_trans)\n",
    "            \n",
    "    return (label)"
   ]
  },
  {
   "cell_type": "code",
   "execution_count": 73,
   "metadata": {},
   "outputs": [],
   "source": [
    "def spf_recom (time,skin_type,cloth_type,activities):\n",
    "    spfli = [0,15,30,50]\n",
    "    recommendedspf = 0\n",
    "    for item in spfli:\n",
    "        recommendedspf = item\n",
    "        temp = float(cata(time,skin_type,item,cloth_type,activities))\n",
    "        if temp < 2:\n",
    "            break\n",
    "    return(recommendedspf)"
   ]
  },
  {
   "cell_type": "code",
   "execution_count": 113,
   "metadata": {},
   "outputs": [
    {
     "name": "stderr",
     "output_type": "stream",
     "text": [
      "//anaconda3/lib/python3.7/site-packages/sklearn/base.py:306: UserWarning: Trying to unpickle estimator LinearRegression from version 0.20.3 when using version 0.21.2. This might lead to breaking code or invalid results. Use at your own risk.\n",
      "  UserWarning)\n",
      "//anaconda3/lib/python3.7/site-packages/sklearn/base.py:306: UserWarning: Trying to unpickle estimator LogisticRegression from version 0.20.3 when using version 0.21.2. This might lead to breaking code or invalid results. Use at your own risk.\n",
      "  UserWarning)\n"
     ]
    },
    {
     "data": {
      "text/plain": [
       "0"
      ]
     },
     "execution_count": 113,
     "metadata": {},
     "output_type": "execute_result"
    }
   ],
   "source": [
    "spf_recom(300,1,'Polyester/Cotton','Snow')"
   ]
  },
  {
   "cell_type": "code",
   "execution_count": 26,
   "metadata": {},
   "outputs": [
    {
     "name": "stderr",
     "output_type": "stream",
     "text": [
      "//anaconda3/lib/python3.7/site-packages/sklearn/base.py:306: UserWarning: Trying to unpickle estimator LinearRegression from version 0.20.3 when using version 0.21.2. This might lead to breaking code or invalid results. Use at your own risk.\n",
      "  UserWarning)\n",
      "//anaconda3/lib/python3.7/site-packages/sklearn/base.py:306: UserWarning: Trying to unpickle estimator LogisticRegression from version 0.20.3 when using version 0.21.2. This might lead to breaking code or invalid results. Use at your own risk.\n",
      "  UserWarning)\n"
     ]
    },
    {
     "data": {
      "text/plain": [
       "array([1])"
      ]
     },
     "execution_count": 26,
     "metadata": {},
     "output_type": "execute_result"
    }
   ],
   "source": [
    "cata(10,1,50,'Polyester/Cotton','Snow')"
   ]
  },
  {
   "cell_type": "code",
   "execution_count": 27,
   "metadata": {},
   "outputs": [
    {
     "name": "stderr",
     "output_type": "stream",
     "text": [
      "//anaconda3/lib/python3.7/site-packages/sklearn/base.py:306: UserWarning: Trying to unpickle estimator LinearRegression from version 0.20.3 when using version 0.21.2. This might lead to breaking code or invalid results. Use at your own risk.\n",
      "  UserWarning)\n",
      "//anaconda3/lib/python3.7/site-packages/sklearn/base.py:306: UserWarning: Trying to unpickle estimator LogisticRegression from version 0.20.3 when using version 0.21.2. This might lead to breaking code or invalid results. Use at your own risk.\n",
      "  UserWarning)\n"
     ]
    }
   ],
   "source": [
    "dose_model = pickle.load(open('dose_model.sav', 'rb'))\n",
    "logisticRegr_1 = pickle.load(open('logisticRegr_1.sav', 'rb')) "
   ]
  },
  {
   "cell_type": "code",
   "execution_count": 43,
   "metadata": {},
   "outputs": [
    {
     "data": {
      "text/plain": [
       "[-37.814, 144.9633]"
      ]
     },
     "execution_count": 43,
     "metadata": {},
     "output_type": "execute_result"
    }
   ],
   "source": [
    "g = geocoder.ip('me')\n",
    "g.latlng"
   ]
  },
  {
   "cell_type": "code",
   "execution_count": 82,
   "metadata": {},
   "outputs": [],
   "source": [
    "g = geocoder.arcgis(u\"Guangzhou\")\n",
    "a = g.latlng\n",
    "fio = ForecastIO.ForecastIO('a1b7034819c4c27fdc1eb1f586cd3d96', latitude=a[0], longitude=a[1])\n",
    "current = FIOCurrently.FIOCurrently(fio)\n",
    "uv = current.uvIndex"
   ]
  },
  {
   "cell_type": "code",
   "execution_count": 111,
   "metadata": {},
   "outputs": [],
   "source": [
    "def cata (time,skin_type,spf,cloth_type,activities):\n",
    "    \n",
    "    g = geocoder.arcgis(u\"Guangzhou\")\n",
    "    a = g.latlng\n",
    "    fio = ForecastIO.ForecastIO('a1b7034819c4c27fdc1eb1f586cd3d96', latitude=a[0], longitude=a[1])\n",
    "    current = FIOCurrently.FIOCurrently(fio)\n",
    "    uv = current.uvIndex\n",
    "    \n",
    "    uvtime = [[uv,time]]\n",
    "    \n",
    "    if spf == 15:\n",
    "        spf_par = 0.07\n",
    "    elif spf == 30:\n",
    "        spf_par = 0.03\n",
    "    elif spf == 50:\n",
    "        spf_par = 0.02\n",
    "    elif spf == 0:\n",
    "        spf_par = 1\n",
    "        \n",
    "        \n",
    "    dose_model = pickle.load(open('dose_model.sav', 'rb'))\n",
    "    logisticRegr_1 = pickle.load(open('logisticRegr_1.sav', 'rb'))    \n",
    "    \n",
    "    activities_dict = {'Picnic,Barbecue':1.05,'Grasslands':1.02,'Soil, clay':1.06,'Road trip':1.09,'City tour':1.22,\n",
    "                    'Boat deck(wood or fibreglass)': 1.09,'Open water': 1.03,'Open ocean': 1.08,'Sea surf': 1.3,\n",
    "                    'Beach sand, wet': 1.07,'Beach sand, dry': 1.18,'Snow':1.88}\n",
    "    cloth_dict = {'Lycra/Elastanes':0.25,'Plastic':0.4,'Nylon':0.7,'Polyester':0.7,'Cotton':0.7,\n",
    "                 'Polyester/Cotton':0.7}    \n",
    "        \n",
    "    poly = PolynomialFeatures(degree=2)\n",
    "    uvtime_train = poly.fit_transform(uvtime)\n",
    "    does = dose_model.predict(uvtime_train)*spf_par*activities_dict[activities]*cloth_dict[cloth_type]\n",
    "    if does <= 0:\n",
    "        does = 0\n",
    "    \n",
    "    dose_skin = np.array([does,skin_type])\n",
    "    poly = PolynomialFeatures(degree=2)\n",
    "    dose_skin = dose_skin.reshape(1,2)\n",
    "    dose_skin_train = poly.fit_transform(dose_skin)\n",
    "    label = logisticRegr_1.predict(dose_skin_train)\n",
    "            \n",
    "    return (label)"
   ]
  },
  {
   "cell_type": "code",
   "execution_count": 109,
   "metadata": {},
   "outputs": [
    {
     "name": "stdout",
     "output_type": "stream",
     "text": [
      "[1]\n"
     ]
    },
    {
     "name": "stderr",
     "output_type": "stream",
     "text": [
      "//anaconda3/lib/python3.7/site-packages/sklearn/base.py:306: UserWarning: Trying to unpickle estimator LinearRegression from version 0.20.3 when using version 0.21.2. This might lead to breaking code or invalid results. Use at your own risk.\n",
      "  UserWarning)\n",
      "//anaconda3/lib/python3.7/site-packages/sklearn/base.py:306: UserWarning: Trying to unpickle estimator LogisticRegression from version 0.20.3 when using version 0.21.2. This might lead to breaking code or invalid results. Use at your own risk.\n",
      "  UserWarning)\n"
     ]
    }
   ],
   "source": [
    "cata(10,1,50,'Polyester/Cotton','Snow')"
   ]
  },
  {
   "cell_type": "code",
   "execution_count": 106,
   "metadata": {},
   "outputs": [
    {
     "data": {
      "image/png": "[encoded data removed]",
      "text/plain": [
       "<Figure size 432x288 with 1 Axes>"
      ]
     },
     "metadata": {
      "needs_background": "light"
     },
     "output_type": "display_data"
    }
   ],
   "source": [
    "x_train = [[6], [8], [10], [14], [18]]\n",
    "y_train = [[7], [9], [13], [17.5], [18]]\n",
    " \n",
    "# 一次线性回归的学习与预测\n",
    "# 线性回归模型 学习\n",
    "regressor = LinearRegression()\n",
    "regressor.fit(x_train, y_train)\n",
    "# 画出一次线性回归的拟合曲线\n",
    "xx = np.linspace(0, 25, 100)   # 0到25均匀采集100个点做x轴\n",
    "xx = xx.reshape(xx.shape[0], 1)\n",
    "yy = regressor.predict(xx)  # 计算每个点对应的y\n",
    "plt.scatter(x_train, y_train)   # 画出训练数据的点\n",
    "plt1, = plt.plot(xx, yy, label=\"degree=1\")\n",
    "plt.axis([0, 25, 0, 25])\n",
    "plt.xlabel(\"Diameter\")\n",
    "plt.ylabel(\"Price\")\n",
    "plt.legend(handles=[plt1])\n",
    "plt.show()"
   ]
  },
  {
   "cell_type": "code",
   "execution_count": 116,
   "metadata": {},
   "outputs": [
    {
     "data": {
      "image/png": "[encoded data removed]",
      "text/plain": [
       "<Figure size 432x288 with 1 Axes>"
      ]
     },
     "metadata": {
      "needs_background": "light"
     },
     "output_type": "display_data"
    },
    {
     "name": "stdout",
     "output_type": "stream",
     "text": [
      "Training score: 0.9816421639597427\n"
     ]
    }
   ],
   "source": [
    "# 2次线性回归进行预测\n",
    "poly2 = PolynomialFeatures(degree=2)    # 2次多项式特征生成器\n",
    "x_train_poly2 = poly2.fit_transform(x_train)\n",
    "# 建立模型预测\n",
    "regressor_poly2 = LinearRegression()\n",
    "regressor_poly2.fit(x_train_poly2, y_train)\n",
    "# 画出2次线性回归的图\n",
    "xx_poly2 = poly2.transform(xx)\n",
    "yy_poly2 = regressor_poly2.predict(xx_poly2)\n",
    "plt.scatter(x_train, y_train)\n",
    "plt1, = plt.plot(xx, yy, label=\"Degree1\")\n",
    "plt2, = plt.plot(xx, yy_poly2, label=\"Degree2\")\n",
    "plt.axis([0, 25, 0, 25])\n",
    "plt.xlabel(\"Diameter\")\n",
    "plt.ylabel(\"Price\")\n",
    "plt.legend(handles=[plt1, plt2])\n",
    "plt.show()\n",
    "# 输出二次回归模型的预测样本评分\n",
    "print(\"Training score:\", regressor_poly2.score(x_train_poly2, y_train))"
   ]
  },
  {
   "cell_type": "code",
   "execution_count": 115,
   "metadata": {},
   "outputs": [
    {
     "data": {
      "image/png": "[encoded data removed]",
      "text/plain": [
       "<Figure size 432x288 with 1 Axes>"
      ]
     },
     "metadata": {
      "needs_background": "light"
     },
     "output_type": "display_data"
    },
    {
     "name": "stdout",
     "output_type": "stream",
     "text": [
      "Traing score: 1.0\n"
     ]
    }
   ],
   "source": [
    "# 进行四次线性回归模型拟合\n",
    "poly4 = PolynomialFeatures(degree=4)    # 4次多项式特征生成器\n",
    "x_train_poly4 = poly4.fit_transform(x_train)\n",
    "# 建立模型预测\n",
    "regressor_poly4 = LinearRegression()\n",
    "regressor_poly4.fit(x_train_poly4, y_train)\n",
    "# 画出2次线性回归的图\n",
    "xx_poly4 = poly4.transform(xx)\n",
    "yy_poly4 = regressor_poly4.predict(xx_poly4)\n",
    "plt.scatter(x_train, y_train)\n",
    "plt1, = plt.plot(xx, yy, label=\"Degree1\")\n",
    "plt2, = plt.plot(xx, yy_poly2, label=\"Degree2\")\n",
    "plt4, = plt.plot(xx, yy_poly4, label=\"Degree2\")\n",
    "plt.axis([0, 25, 0, 25])\n",
    "plt.xlabel(\"Diameter\")\n",
    "plt.ylabel(\"Price\")\n",
    "plt.legend(handles=[plt1, plt2, plt4])\n",
    "plt.show()\n",
    "# 输出二次回归模型的预测样本评分\n",
    "print(\"Traing score:\", regressor_poly4.score(x_train_poly4, y_train))  "
   ]
  },
  {
   "cell_type": "code",
   "execution_count": 117,
   "metadata": {},
   "outputs": [
    {
     "name": "stdout",
     "output_type": "stream",
     "text": [
      "一次线性模型在测试集合上得分: 0.809726797707665\n",
      "二次线性模型在测试集合上得分: 0.8675443656345073\n",
      "四次线性模型在测试集合上得分: 0.8095880795766807\n"
     ]
    }
   ],
   "source": [
    "# 准备测试数据\n",
    "x_test = [[6], [8], [11], [16]]\n",
    "y_test = [[8], [12], [15], [18]]\n",
    "print(\"一次线性模型在测试集合上得分:\", regressor.score(x_test, y_test))   # 0.809726797707665\n",
    "x_test_poly2 = poly2.transform(x_test)\n",
    "print(\"二次线性模型在测试集合上得分:\", regressor_poly2.score(x_test_poly2, y_test))   # 0.8675443656345054\n",
    "x_test_poly4 = poly4.transform(x_test)\n",
    "print(\"四次线性模型在测试集合上得分:\", regressor_poly4.score(x_test_poly4, y_test))   # 0.8095880795746723"
   ]
  },
  {
   "cell_type": "code",
   "execution_count": null,
   "metadata": {},
   "outputs": [],
   "source": []
  }
 ],
 "metadata": {
  "kernelspec": {
   "display_name": "Python 3",
   "language": "python",
   "name": "python3"
  },
  "language_info": {
   "codemirror_mode": {
    "name": "ipython",
    "version": 3
   },
   "file_extension": ".py",
   "mimetype": "text/x-python",
   "name": "python",
   "nbconvert_exporter": "python",
   "pygments_lexer": "ipython3",
   "version": "3.7.3"
  }
 },
 "nbformat": 4,
 "nbformat_minor": 2
}
